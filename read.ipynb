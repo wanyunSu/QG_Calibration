{
 "cells": [
  {
   "cell_type": "code",
   "execution_count": 1,
   "metadata": {},
   "outputs": [],
   "source": [
    "import joblib \n",
    "import numpy as np \n",
    "from matplotlib import pyplot as plt \n",
    "from uncertainties import ufloat, unumpy\n",
    "\n",
    "from pathlib import Path\n",
    "from tqdm import tqdm\n",
    "from numpy import array\n",
    "import sys\n",
    "sys.path.append(\"..\")\n",
    "import atlas_mpl_style as ampl\n",
    "import random\n",
    "import mplhep as hep\n",
    "hep.style.use(\"ATLAS\")\n",
    "import random\n",
    "mc = joblib.load('/global/cfs/projectdirs/atlas/wys/QG_Calibration/note_plots_prob/nominal/Data_merged_hist.pkl')\n",
    "mc_hr = joblib.load('/global/cfs/projectdirs/atlas/wys/HEP_Repo/QG_Calibration/NewWorkflow/trained_lightGBM_new_hrzhao/nominal/Data_merged_hist.pkl')\n"
   ]
  },
  {
   "cell_type": "code",
   "execution_count": 16,
   "metadata": {},
   "outputs": [
    {
     "ename": "KeyError",
     "evalue": "'500_LeadingJet_Central_Data_jet_trackC1'",
     "output_type": "error",
     "traceback": [
      "\u001b[0;31m---------------------------------------------------------------------------\u001b[0m",
      "\u001b[0;31mKeyError\u001b[0m                                  Traceback (most recent call last)",
      "\u001b[1;32m/global/cfs/projectdirs/atlas/wys/QG_Calibration/read.ipynb Cell 2\u001b[0m in \u001b[0;36m1\n\u001b[0;32m----> <a href='vscode-notebook-cell://ssh-remote%2Bperlmutter-p1.nersc.gov/global/cfs/projectdirs/atlas/wys/QG_Calibration/read.ipynb#W1sdnNjb2RlLXJlbW90ZQ%3D%3D?line=0'>1</a>\u001b[0m mc[\u001b[39m'\u001b[39;49m\u001b[39mjet_nTracks_quark_reweighting_weights\u001b[39;49m\u001b[39m'\u001b[39;49m][\u001b[39m'\u001b[39;49m\u001b[39m500_LeadingJet_Central_Data_jet_trackC1\u001b[39;49m\u001b[39m'\u001b[39;49m]\n",
      "\u001b[0;31mKeyError\u001b[0m: '500_LeadingJet_Central_Data_jet_trackC1'"
     ]
    }
   ],
   "source": [
    "mc['jet_nTracks_quark_reweighting_weights']['500_LeadingJet_Central_Data_jet_trackC1']"
   ]
  },
  {
   "cell_type": "code",
   "execution_count": 13,
   "metadata": {},
   "outputs": [
    {
     "data": {
      "text/html": [
       "<html>\n",
       "<div style=\"display:flex; align-items:center;\">\n",
       "<div style=\"width:290px;\">\n",
       "<svg xmlns=\"http://www.w3.org/2000/svg\" viewBox=\"-10 -105 270 120\">\n",
       "<line x1=\"-5\" y1=\"0\" x2=\"255\" y2=\"0\" style=\"fill:none;stroke-width:2;stroke:currentColor\"/>\n",
       "<text text-anchor=\"middle\" x=\"0\" y=\"15\" style=\"fill:currentColor;\">\n",
       "0\n",
       "</text>\n",
       "<text text-anchor=\"middle\" x=\"250\" y=\"15\" style=\"fill:currentColor;\">\n",
       "0.4\n",
       "</text>\n",
       "<text text-anchor=\"middle\" x=\"125.0\" y=\"15\" style=\"fill:currentColor;\">\n",
       "Axis 0\n",
       "</text>\n",
       "<polyline points=\"  0,0   0,-2.21 4.16667,-2.21 4.16667,-2.54 8.33333,-2.54 8.33333,-2.92 12.5,-2.92 12.5,-3.46 16.6667,-3.46 16.6667,-3.96 20.8333,-3.96 20.8333,-4.59  25,-4.59  25,-5.34 29.1667,-5.34 29.1667,-6.19 33.3333,-6.19 33.3333,-7.08 37.5,-7.08 37.5,-8.29 41.6667,-8.29 41.6667,-9.6 45.8333,-9.6 45.8333,-11.1  50,-11.1  50,-13 54.1667,-13 54.1667,-15.4 58.3333,-15.4 58.3333,-18.2 62.5,-18.2 62.5,-21.5 66.6667,-21.5 66.6667,-25.5 70.8333,-25.5 70.8333,-30.2  75,-30.2  75,-35.6 79.1667,-35.6 79.1667,-41.4 83.3333,-41.4 83.3333,-47.9 87.5,-47.9 87.5,-54.9 91.6667,-54.9 91.6667,-61.7 95.8333,-61.7 95.8333,-68.5 100,-68.5 100,-74.3 104.167,-74.3 104.167,-80 108.333,-80 108.333,-85 112.5,-85 112.5,-89.1 116.667,-89.1 116.667,-92.1 120.833,-92.1 120.833,-95 125,-95 125,-97.2 129.167,-97.2 129.167,-99.4 133.333,-99.4 133.333,-99.5 137.5,-99.5 137.5,-100 141.667,-100 141.667,-99 145.833,-99 145.833,-96.9 150,-96.9 150,-94.1 154.167,-94.1 154.167,-90.7 158.333,-90.7 158.333,-86.4 162.5,-86.4 162.5,-81.8 166.667,-81.8 166.667,-76.4 170.833,-76.4 170.833,-70.8 175,-70.8 175,-64.6 179.167,-64.6 179.167,-58 183.333,-58 183.333,-50.9 187.5,-50.9 187.5,-43.9 191.667,-43.9 191.667,-36.1 195.833,-36.1 195.833,-28.4 200,-28.4 200,-20.8 204.167,-20.8 204.167,-14.4 208.333,-14.4 208.333,-8.97 212.5,-8.97 212.5,-5.01 216.667,-5.01 216.667,-2.39 220.833,-2.39 220.833,-0.964 225,-0.964 225,-0.289 229.167,-0.289 229.167,-0.0639 233.333,-0.0639 233.333,-0.00972 237.5,-0.00972 237.5,-0.00112 241.667,-0.00112 241.667,-0 245.833,-0 245.833,-0 250,-0 250,0\" style=\"fill:none; stroke:currentColor;\"/>\n",
       "</svg>\n",
       "</div>\n",
       "<div style=\"flex=grow:1;\">\n",
       "Regular(60, 0, 0.4, label='Axis 0')<br/>\n",
       "<hr style=\"margin-top:.2em; margin-bottom:.2em;\"/>\n",
       "Weight() Σ=WeightedSum(value=7.58638e+06, variance=9.39341e+06)\n",
       "\n",
       "</div>\n",
       "</div>\n",
       "</html>"
      ],
      "text/plain": [
       "Hist(Regular(60, 0, 0.4, label='Axis 0'), storage=Weight()) # Sum: WeightedSum(value=7.58638e+06, variance=9.39341e+06)"
      ]
     },
     "execution_count": 13,
     "metadata": {},
     "output_type": "execute_result"
    }
   ],
   "source": [
    "mc_hr['jet_nTracks_quark_reweighting_weights']['500_LeadingJet_Forward_Data_jet_trackC1']"
   ]
  },
  {
   "cell_type": "code",
   "execution_count": 3,
   "metadata": {},
   "outputs": [],
   "source": [
    "ext = joblib.load('/global/cfs/projectdirs/atlas/wys/HEP_Repo/QG_Calibration/NewWorkflow/note_plots/nominal/plots/ADE/Extraction_Results/jet_nTracks_Extraction_Results.pkl')"
   ]
  },
  {
   "cell_type": "code",
   "execution_count": 5,
   "metadata": {},
   "outputs": [
    {
     "data": {
      "text/plain": [
       "dict_keys([500, 600, 800, 1000, 1200, 1500])"
      ]
     },
     "execution_count": 5,
     "metadata": {},
     "output_type": "execute_result"
    }
   ],
   "source": [
    "ext['jet_pt'].keys()"
   ]
  },
  {
   "cell_type": "code",
   "execution_count": null,
   "metadata": {},
   "outputs": [],
   "source": []
  }
 ],
 "metadata": {
  "kernelspec": {
   "display_name": "ml",
   "language": "python",
   "name": "python3"
  },
  "language_info": {
   "codemirror_mode": {
    "name": "ipython",
    "version": 3
   },
   "file_extension": ".py",
   "mimetype": "text/x-python",
   "name": "python",
   "nbconvert_exporter": "python",
   "pygments_lexer": "ipython3",
   "version": "3.9.15"
  },
  "orig_nbformat": 4
 },
 "nbformat": 4,
 "nbformat_minor": 2
}
