{
 "cells": [
  {
   "cell_type": "code",
   "execution_count": 1,
   "metadata": {},
   "outputs": [],
   "source": [
    "import joblib\n",
    "from pathlib import Path\n",
    "import numpy as np \n",
    "from matplotlib import pyplot as plt \n",
    "import atlas_mpl_style as ampl\n",
    "from uncertainties import ufloat, unumpy\n",
    "#ampl.use_atlas_style(usetex=False)\n",
    "import mplhep as hep\n",
    "hep.style.use(\"ATLAS\")\n",
    "\n",
    "\n",
    "label_ptrange = [500, 600, 800, 1000, 1200, 1500, 2000]\n",
    "bin_edges = label_ptrange\n",
    "import random\n",
    "inxx = 0\n"
   ]
  },
  {
   "cell_type": "code",
   "execution_count": 2,
   "metadata": {},
   "outputs": [],
   "source": [
    "pkl_path = '/global/cfs/projectdirs/atlas/wys/QG_Calibration/note_plots'\n",
    "pkl_path = Path(pkl_path)\n",
    "nominal_path = pkl_path / 'nominal' / 'plots' / 'ADE' / 'Extraction_Results'\n",
    "\n",
    "reweighting_vars = ['jet_nTracks', 'GBDT_newScore']\n",
    "dicc = {}\n",
    "\n",
    "for i_var in reweighting_vars:\n",
    "    dicc[i_var]={}\n",
    "\n",
    "    nominal_SFs = joblib.load(nominal_path / f'{i_var}_Extraction_Results.pkl' ) \n",
    "    fraction_pt_slices = []\n",
    "    for pt in label_ptrange[:-1]:\n",
    "        fraction_pt_slices.append(nominal_SFs[f'{i_var}'][pt]['f'])\n",
    "    dicc[i_var] = fraction_pt_slices  \n",
    "\n"
   ]
  },
  {
   "cell_type": "code",
   "execution_count": 5,
   "metadata": {},
   "outputs": [
    {
     "data": {
      "text/plain": [
       "array([[[0.56786064, 0.43213936],\n",
       "        [0.40085453, 0.59914547]],\n",
       "\n",
       "       [[0.61533369, 0.38466631],\n",
       "        [0.44473527, 0.55526473]],\n",
       "\n",
       "       [[0.65841656, 0.34158344],\n",
       "        [0.49744101, 0.50255899]],\n",
       "\n",
       "       [[0.69291041, 0.30708959],\n",
       "        [0.54796282, 0.45203718]],\n",
       "\n",
       "       [[0.7266175 , 0.2733825 ],\n",
       "        [0.60081551, 0.39918449]],\n",
       "\n",
       "       [[0.76824856, 0.23175144],\n",
       "        [0.66492475, 0.33507525]]])"
      ]
     },
     "execution_count": 5,
     "metadata": {},
     "output_type": "execute_result"
    }
   ],
   "source": [
    "fraction_pt_slices"
   ]
  },
  {
   "cell_type": "code",
   "execution_count": 3,
   "metadata": {},
   "outputs": [
    {
     "name": "stdout",
     "output_type": "stream",
     "text": [
      "syst:  [0.5980436  0.55151137 0.49694311 0.44481292 0.39080568 0.32088475]\n"
     ]
    }
   ],
   "source": [
    "# nominal_SFs = joblib.load(nominal_path / 'none_Extraction_Results.pkl' ) \n",
    "# fraction_pt_slices = []\n",
    "# for pt in label_ptrange[:-1]:\n",
    "#         fraction_pt_slices.append(nominal_SFs['jet_nTracks'][pt]['f'])\n",
    "# dicc[i_var] = fraction_pt_slices  \n",
    "\n",
    "for rew,v1 in dicc.items():\n",
    "        fig, ax = plt.subplots()\n",
    "        fraction_pt_slices = np.array(v1)\n",
    "        fractions = fraction_pt_slices.reshape((6, 4)).swapaxes(0,1)\n",
    "        frac_Forward_Quark = fractions[0, :]\n",
    "        frac_Forward_Gluon = fractions[1, :]\n",
    "        frac_Central_Quark = fractions[2, :]\n",
    "        frac_Central_Gluon = fractions[3, :]\n",
    "\n",
    "        hep.histplot(unumpy.nominal_values(frac_Forward_Quark), bin_edges, label=r\"$f_{F,Q}$\",ax=ax,histtype='errorbar',marker=\"^\",color='blue',yerr=unumpy.std_devs(frac_Forward_Quark))\n",
    "        #hep.histplot(unumpy.nominal_values(frac_Forward_Gluon), bin_edges, label=r\"$f_{F,G}$\",ax=ax,histtype='errorbar',marker=\"s\",xerr=True,color='red',yerr=unumpy.std_devs(frac_Forward_Gluon))\n",
    "        hep.histplot(unumpy.nominal_values(frac_Central_Quark), bin_edges, label=r\"$f_{C,Q}$\",ax=ax,histtype='errorbar',marker=\"^\",mfc = 'none',color='blue',yerr=unumpy.std_devs(frac_Central_Quark))\n",
    "        #hep.histplot(unumpy.nominal_values(frac_Central_Gluon), bin_edges, label=r\"$f_{C,G}$ \",ax=ax,histtype='errorbar',marker=\"s\",mfc = 'none',color='red', xerr=True,yerr=unumpy.std_devs(frac_Central_Gluon))\n",
    "        print(\"syst: \",frac_Central_Gluon)\n",
    "        ax.legend(loc='lower right',fontsize=25)\n",
    "        ax.set_xlim(bin_edges[0], bin_edges[-1])\n",
    "        ax.set_ylim(0.3,1.0)\n",
    "        #hep.plot.yscale_legend()\n",
    "        ax.set_xlabel('$p_{\\mathrm{T}}$ [GeV]')\n",
    "        ax.set_ylabel('Quark-jet fraction')\n",
    "        #ax.text(580,1.09,'anti-$k_{t}$ R=0.4 PFlow jet',fontsize=15)\n",
    "        #ax.text(580,0.85,'Quark-jet tagging',fontsize=15)\n",
    "       # ax.text(600,0.7,f'{rew}')\n",
    "        hep.atlas.label(ax=ax)#label=\"Internal\",\n",
    "        #hep.atlas.text(text=r\"Pythia8 dijet Anti-$k_{\\mathrm{T}}$ $R$ = 0.4 PFlow\")\n",
    "        fig_name = f'../frac/Fraction_{rew}_pythia.pdf'\n",
    "        fig.savefig(fig_name)"
   ]
  },
  {
   "cell_type": "code",
   "execution_count": null,
   "metadata": {},
   "outputs": [],
   "source": []
  },
  {
   "cell_type": "code",
   "execution_count": 15,
   "metadata": {},
   "outputs": [],
   "source": [
    "systlist =['powhegpythia']#['herwigangle','herwigdipole'] #['sherpa','sherpalund']#['powhegpythia']#['sherpa','sherpalund'] #\n",
    "herwig_SFs={}\n",
    "reweighting_vars = ['jet_nTracks', 'GBDT_newScore']\n",
    "dicc = {}\n",
    "\n",
    "for i_var in reweighting_vars:\n",
    "    dicc[i_var]={}\n",
    "\n",
    "    nominal_SFs = joblib.load(nominal_path / f'{i_var}_Extraction_Results.pkl' ) \n",
    "\n",
    "    fraction_pt_slices = []\n",
    "    for pt in label_ptrange[:-1]:\n",
    "        fraction_pt_slices.append(nominal_SFs[f'{i_var}'][pt]['f'])\n",
    "    dicc[i_var]['pythia'] = fraction_pt_slices  \n",
    "\n",
    "    for her in systlist: \n",
    "        herwig = pkl_path / 'matrix_element' / her / 'plots' / 'ADE' / 'Extraction_Results' \n",
    "        herwig_SFs[her] = joblib.load(herwig/ f'{i_var}_Extraction_Results.pkl' )\n",
    "\n",
    "        fraction_pt_slices_her=[]\n",
    "        for pt in label_ptrange[:-1]:\n",
    "            fraction_pt_slices_her.append(herwig_SFs[her][f'{i_var}'][pt]['f']) \n",
    "        dicc[i_var][her] =fraction_pt_slices_her \n"
   ]
  },
  {
   "cell_type": "code",
   "execution_count": 16,
   "metadata": {},
   "outputs": [
    {
     "ename": "TypeError",
     "evalue": "std_devs() missing 1 required positional argument: 'arr'",
     "output_type": "error",
     "traceback": [
      "\u001b[0;31m---------------------------------------------------------------------------\u001b[0m",
      "\u001b[0;31mTypeError\u001b[0m                                 Traceback (most recent call last)",
      "\u001b[1;32m/global/cfs/projectdirs/atlas/wys/HEP_Repo/QG_Calibration/NewWorkflow/getFrac.ipynb Cell 5\u001b[0m in \u001b[0;36m1\n\u001b[1;32m      <a href='vscode-notebook-cell://ssh-remote%2Bperlmutter-p1.nersc.gov/global/cfs/projectdirs/atlas/wys/HEP_Repo/QG_Calibration/NewWorkflow/getFrac.ipynb#W2sdnNjb2RlLXJlbW90ZQ%3D%3D?line=6'>7</a>\u001b[0m frac_Forward_Quark_her \u001b[39m=\u001b[39m fractions_her[\u001b[39m0\u001b[39m, :]\n\u001b[1;32m      <a href='vscode-notebook-cell://ssh-remote%2Bperlmutter-p1.nersc.gov/global/cfs/projectdirs/atlas/wys/HEP_Repo/QG_Calibration/NewWorkflow/getFrac.ipynb#W2sdnNjb2RlLXJlbW90ZQ%3D%3D?line=7'>8</a>\u001b[0m frac_Central_Quark_her \u001b[39m=\u001b[39m fractions_her[\u001b[39m2\u001b[39m, :]\n\u001b[0;32m---> <a href='vscode-notebook-cell://ssh-remote%2Bperlmutter-p1.nersc.gov/global/cfs/projectdirs/atlas/wys/HEP_Repo/QG_Calibration/NewWorkflow/getFrac.ipynb#W2sdnNjb2RlLXJlbW90ZQ%3D%3D?line=9'>10</a>\u001b[0m hep\u001b[39m.\u001b[39mhistplot(unumpy\u001b[39m.\u001b[39mnominal_values(frac_Forward_Quark_her), bin_edges, label\u001b[39m=\u001b[39m\u001b[39mf\u001b[39m\u001b[39m\"\u001b[39m\u001b[39mH,Q \u001b[39m\u001b[39m{\u001b[39;00msyst\u001b[39m}\u001b[39;00m\u001b[39m\"\u001b[39m,ax\u001b[39m=\u001b[39max,histtype\u001b[39m=\u001b[39m\u001b[39m'\u001b[39m\u001b[39merrorbar\u001b[39m\u001b[39m'\u001b[39m,marker\u001b[39m=\u001b[39m\u001b[39m\"\u001b[39m\u001b[39m*\u001b[39m\u001b[39m\"\u001b[39m,xerr\u001b[39m=\u001b[39m\u001b[39mTrue\u001b[39;00m,yerr\u001b[39m=\u001b[39munumpy\u001b[39m.\u001b[39;49mstd_devs())\n\u001b[1;32m     <a href='vscode-notebook-cell://ssh-remote%2Bperlmutter-p1.nersc.gov/global/cfs/projectdirs/atlas/wys/HEP_Repo/QG_Calibration/NewWorkflow/getFrac.ipynb#W2sdnNjb2RlLXJlbW90ZQ%3D%3D?line=10'>11</a>\u001b[0m \u001b[39m# ax.stairs(frac_Forward_Quark_her, bin_edges, label=f\"H,Q {syst}\", color=f'C{inxx}', baseline=None, linewidth = 2)\u001b[39;00m\n\u001b[1;32m     <a href='vscode-notebook-cell://ssh-remote%2Bperlmutter-p1.nersc.gov/global/cfs/projectdirs/atlas/wys/HEP_Repo/QG_Calibration/NewWorkflow/getFrac.ipynb#W2sdnNjb2RlLXJlbW90ZQ%3D%3D?line=11'>12</a>\u001b[0m \u001b[39m# inxx += 1\u001b[39;00m\n\u001b[1;32m     <a href='vscode-notebook-cell://ssh-remote%2Bperlmutter-p1.nersc.gov/global/cfs/projectdirs/atlas/wys/HEP_Repo/QG_Calibration/NewWorkflow/getFrac.ipynb#W2sdnNjb2RlLXJlbW90ZQ%3D%3D?line=12'>13</a>\u001b[0m \u001b[39m# ax.stairs(frac_Central_Quark_her, bin_edges, label=f\"H,Q {syst}\", color=f'C{inxx}', baseline=None, linewidth = 2)\u001b[39;00m\n\u001b[1;32m     <a href='vscode-notebook-cell://ssh-remote%2Bperlmutter-p1.nersc.gov/global/cfs/projectdirs/atlas/wys/HEP_Repo/QG_Calibration/NewWorkflow/getFrac.ipynb#W2sdnNjb2RlLXJlbW90ZQ%3D%3D?line=13'>14</a>\u001b[0m \u001b[39m# inxx += 1\u001b[39;00m\n\u001b[1;32m     <a href='vscode-notebook-cell://ssh-remote%2Bperlmutter-p1.nersc.gov/global/cfs/projectdirs/atlas/wys/HEP_Repo/QG_Calibration/NewWorkflow/getFrac.ipynb#W2sdnNjb2RlLXJlbW90ZQ%3D%3D?line=14'>15</a>\u001b[0m \u001b[39m#ax.stairs(frac_Forward_Quark, bin_edges, label=rf\"$f_{Forward, Quark}$_{i_var}\", color=\"purple\", baseline=None, linewidth = 2)\u001b[39;00m\n\u001b[1;32m     <a href='vscode-notebook-cell://ssh-remote%2Bperlmutter-p1.nersc.gov/global/cfs/projectdirs/atlas/wys/HEP_Repo/QG_Calibration/NewWorkflow/getFrac.ipynb#W2sdnNjb2RlLXJlbW90ZQ%3D%3D?line=15'>16</a>\u001b[0m \u001b[39m#ax.stairs(frac_Central_Quark, bin_edges, label=rf\"$f_{Central, Quark}$_{i_var}\", color=\"blue\", baseline=None, linewidth = 2)\u001b[39;00m\n\u001b[1;32m     <a href='vscode-notebook-cell://ssh-remote%2Bperlmutter-p1.nersc.gov/global/cfs/projectdirs/atlas/wys/HEP_Repo/QG_Calibration/NewWorkflow/getFrac.ipynb#W2sdnNjb2RlLXJlbW90ZQ%3D%3D?line=16'>17</a>\u001b[0m ax\u001b[39m.\u001b[39mlegend()\n",
      "\u001b[0;31mTypeError\u001b[0m: std_devs() missing 1 required positional argument: 'arr'"
     ]
    },
    {
     "data": {
      "image/png": "[encoded data removed]",
      "text/plain": [
       "<Figure size 800x600 with 1 Axes>"
      ]
     },
     "metadata": {},
     "output_type": "display_data"
    }
   ],
   "source": [
    "for rew,v1 in dicc.items():\n",
    "        fig, ax = plt.subplots()\n",
    "        for syst,v2 in v1.items():\n",
    "\n",
    "                fraction_pt_slices_her = np.array(v2)\n",
    "                fractions_her = fraction_pt_slices_her.reshape((6, 4)).swapaxes(0,1)\n",
    "                frac_Forward_Quark_her = fractions_her[0, :]\n",
    "                frac_Central_Quark_her = fractions_her[2, :]\n",
    "\n",
    "                hep.histplot(unumpy.nominal_values(frac_Forward_Quark_her), bin_edges, label=f\"H,Q {syst}\",ax=ax,histtype='errorbar',marker=\"*\",xerr=True,yerr=unumpy.std_devs())\n",
    "                # ax.stairs(frac_Forward_Quark_her, bin_edges, label=f\"H,Q {syst}\", color=f'C{inxx}', baseline=None, linewidth = 2)\n",
    "                # inxx += 1\n",
    "                # ax.stairs(frac_Central_Quark_her, bin_edges, label=f\"H,Q {syst}\", color=f'C{inxx}', baseline=None, linewidth = 2)\n",
    "                # inxx += 1\n",
    "                #ax.stairs(frac_Forward_Quark, bin_edges, label=rf\"$f_{Forward, Quark}$_{i_var}\", color=\"purple\", baseline=None, linewidth = 2)\n",
    "                #ax.stairs(frac_Central_Quark, bin_edges, label=rf\"$f_{Central, Quark}$_{i_var}\", color=\"blue\", baseline=None, linewidth = 2)\n",
    "                ax.legend()\n",
    "                #print(f\"{rew}_{syst} Higher Quark: \",frac_Forward_Quark_her)\n",
    "\n",
    "\n",
    "        #ax.hlines(y=0.5, xmin=bin_edges[0], xmax=bin_edges[-1], linestyles='dashed', color=\"black\")\n",
    "        ax.set_xlim(bin_edges[0], bin_edges[-1])\n",
    "        ax.set_ylim(0,0.9)\n",
    "        ax.set_xlabel('Jet $p_{\\mathrm{T}}$ [GeV]')\n",
    "        ax.set_ylabel('Fraction') \n",
    "        #ampl.draw_atlas_label(0.1, 0.9, ax=ax, energy=\"13 TeV\", simulation=True)\n",
    "\n",
    "        #fig_name = f'/global/cfs/projectdirs/atlas/wys/HEP_Repo/QG_Calibration/NewWorkflow/frac/Fraction_{rew}_{syst}.pdf'\n",
    "        #fig.savefig(fig_name)"
   ]
  },
  {
   "cell_type": "code",
   "execution_count": null,
   "metadata": {},
   "outputs": [],
   "source": []
  },
  {
   "cell_type": "code",
   "execution_count": null,
   "metadata": {},
   "outputs": [],
   "source": []
  }
 ],
 "metadata": {
  "kernelspec": {
   "display_name": "ml",
   "language": "python",
   "name": "python3"
  },
  "language_info": {
   "codemirror_mode": {
    "name": "ipython",
    "version": 3
   },
   "file_extension": ".py",
   "mimetype": "text/x-python",
   "name": "python",
   "nbconvert_exporter": "python",
   "pygments_lexer": "ipython3",
   "version": "3.9.15"
  },
  "orig_nbformat": 4
 },
 "nbformat": 4,
 "nbformat_minor": 2
}
