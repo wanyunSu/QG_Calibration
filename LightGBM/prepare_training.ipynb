{
 "cells": [
  {
   "cell_type": "code",
   "execution_count": 2,
   "metadata": {},
   "outputs": [],
   "source": [
    "import joblib\n",
    "import pandas as pd\n",
    "import numpy as np \n",
    "from pathlib import Path\n",
    "from matplotlib import pyplot as plt\n",
    "import hist\n",
    "from hist import Hist"
   ]
  },
  {
   "cell_type": "code",
   "execution_count": 3,
   "metadata": {},
   "outputs": [],
   "source": [
    "pred_pkls_path = '/global/cfs/projectdirs/atlas/wys/QG_Calibration/note_plots_new/nominal'\n",
    "pred_pkls_path = Path(pred_pkls_path)"
   ]
  },
  {
   "cell_type": "code",
   "execution_count": 4,
   "metadata": {},
   "outputs": [],
   "source": [
    "pred_pkls_files = sorted(pred_pkls_path.rglob('pythia*_pred.pkl'))"
   ]
  },
  {
   "cell_type": "code",
   "execution_count": 5,
   "metadata": {},
   "outputs": [],
   "source": [
    "sample = []\n",
    "for pred_pkls_file in pred_pkls_files:\n",
    "    sample_pd = joblib.load(pred_pkls_file)\n",
    "    sample_pd = sample_pd[(sample_pd[\"jet_nTracks\"] > 1) & (sample_pd[\"target\"] != '-') & (sample_pd['event_weight'] < 50)] \n",
    "\n",
    "    sample.append(sample_pd.sample(frac = 0.3))"
   ]
  },
  {
   "cell_type": "code",
   "execution_count": 6,
   "metadata": {},
   "outputs": [],
   "source": [
    "sample = pd.concat(sample)"
   ]
  },
  {
   "cell_type": "code",
   "execution_count": null,
   "metadata": {},
   "outputs": [
    {
     "data": {
      "text/html": [
       "<div>\n",
       "<style scoped>\n",
       "    .dataframe tbody tr th:only-of-type {\n",
       "        vertical-align: middle;\n",
       "    }\n",
       "\n",
       "    .dataframe tbody tr th {\n",
       "        vertical-align: top;\n",
       "    }\n",
       "\n",
       "    .dataframe thead th {\n",
       "        text-align: right;\n",
       "    }\n",
       "</style>\n",
       "<table border=\"1\" class=\"dataframe\">\n",
       "  <thead>\n",
       "    <tr style=\"text-align: right;\">\n",
       "      <th></th>\n",
       "      <th>run</th>\n",
       "      <th>event</th>\n",
       "      <th>jet_pt</th>\n",
       "      <th>jet_eta</th>\n",
       "      <th>jet_nTracks</th>\n",
       "      <th>jet_trackWidth</th>\n",
       "      <th>jet_trackC1</th>\n",
       "      <th>jet_trackBDT</th>\n",
       "      <th>jet_PartonTruthLabelID</th>\n",
       "      <th>jet_cleaning</th>\n",
       "      <th>event_weight</th>\n",
       "      <th>is_forward</th>\n",
       "      <th>is_leading</th>\n",
       "      <th>pt_idx</th>\n",
       "      <th>target</th>\n",
       "      <th>GBDT_newScore</th>\n",
       "      <th>jet_nTracks_quark_reweighting_weights</th>\n",
       "      <th>jet_nTracks_gluon_reweighting_weights</th>\n",
       "      <th>GBDT_newScore_quark_reweighting_weights</th>\n",
       "      <th>GBDT_newScore_gluon_reweighting_weights</th>\n",
       "    </tr>\n",
       "  </thead>\n",
       "  <tbody>\n",
       "    <tr>\n",
       "      <th>3238411</th>\n",
       "      <td>364704.0</td>\n",
       "      <td>125988131.0</td>\n",
       "      <td>557.613403</td>\n",
       "      <td>-0.455438</td>\n",
       "      <td>14.0</td>\n",
       "      <td>0.014381</td>\n",
       "      <td>0.144946</td>\n",
       "      <td>-0.196504</td>\n",
       "      <td>3.0</td>\n",
       "      <td>2.0</td>\n",
       "      <td>0.098855</td>\n",
       "      <td>1.0</td>\n",
       "      <td>0.0</td>\n",
       "      <td>0</td>\n",
       "      <td>0</td>\n",
       "      <td>-1.729576</td>\n",
       "      <td>0.098855</td>\n",
       "      <td>0.098855</td>\n",
       "      <td>0.098855</td>\n",
       "      <td>0.098855</td>\n",
       "    </tr>\n",
       "    <tr>\n",
       "      <th>3455858</th>\n",
       "      <td>364706.0</td>\n",
       "      <td>26285773.0</td>\n",
       "      <td>1510.885986</td>\n",
       "      <td>-0.490748</td>\n",
       "      <td>33.0</td>\n",
       "      <td>0.036924</td>\n",
       "      <td>0.204487</td>\n",
       "      <td>0.208877</td>\n",
       "      <td>2.0</td>\n",
       "      <td>2.0</td>\n",
       "      <td>0.015172</td>\n",
       "      <td>0.0</td>\n",
       "      <td>1.0</td>\n",
       "      <td>5</td>\n",
       "      <td>0</td>\n",
       "      <td>0.416297</td>\n",
       "      <td>0.016162</td>\n",
       "      <td>0.015209</td>\n",
       "      <td>0.016798</td>\n",
       "      <td>0.015552</td>\n",
       "    </tr>\n",
       "    <tr>\n",
       "      <th>6150249</th>\n",
       "      <td>364705.0</td>\n",
       "      <td>32728534.0</td>\n",
       "      <td>900.009583</td>\n",
       "      <td>0.637667</td>\n",
       "      <td>6.0</td>\n",
       "      <td>0.009031</td>\n",
       "      <td>0.108667</td>\n",
       "      <td>-0.554250</td>\n",
       "      <td>2.0</td>\n",
       "      <td>2.0</td>\n",
       "      <td>0.031934</td>\n",
       "      <td>0.0</td>\n",
       "      <td>0.0</td>\n",
       "      <td>2</td>\n",
       "      <td>0</td>\n",
       "      <td>-3.978440</td>\n",
       "      <td>0.026166</td>\n",
       "      <td>0.026596</td>\n",
       "      <td>0.031298</td>\n",
       "      <td>0.032372</td>\n",
       "    </tr>\n",
       "    <tr>\n",
       "      <th>3329447</th>\n",
       "      <td>364705.0</td>\n",
       "      <td>71931988.0</td>\n",
       "      <td>825.474121</td>\n",
       "      <td>0.666918</td>\n",
       "      <td>26.0</td>\n",
       "      <td>0.052535</td>\n",
       "      <td>0.245859</td>\n",
       "      <td>0.195831</td>\n",
       "      <td>1.0</td>\n",
       "      <td>2.0</td>\n",
       "      <td>0.046829</td>\n",
       "      <td>1.0</td>\n",
       "      <td>0.0</td>\n",
       "      <td>2</td>\n",
       "      <td>0</td>\n",
       "      <td>0.728364</td>\n",
       "      <td>0.046829</td>\n",
       "      <td>0.046829</td>\n",
       "      <td>0.046829</td>\n",
       "      <td>0.046829</td>\n",
       "    </tr>\n",
       "    <tr>\n",
       "      <th>1919617</th>\n",
       "      <td>364704.0</td>\n",
       "      <td>103239477.0</td>\n",
       "      <td>524.123230</td>\n",
       "      <td>-0.756148</td>\n",
       "      <td>31.0</td>\n",
       "      <td>0.074126</td>\n",
       "      <td>0.268501</td>\n",
       "      <td>0.334522</td>\n",
       "      <td>21.0</td>\n",
       "      <td>2.0</td>\n",
       "      <td>0.270055</td>\n",
       "      <td>0.0</td>\n",
       "      <td>0.0</td>\n",
       "      <td>0</td>\n",
       "      <td>1</td>\n",
       "      <td>1.916185</td>\n",
       "      <td>0.330709</td>\n",
       "      <td>0.291766</td>\n",
       "      <td>0.350503</td>\n",
       "      <td>0.295033</td>\n",
       "    </tr>\n",
       "  </tbody>\n",
       "</table>\n",
       "</div>"
      ],
      "text/plain": [
       "              run        event       jet_pt   jet_eta  jet_nTracks  \\\n",
       "3238411  364704.0  125988131.0   557.613403 -0.455438         14.0   \n",
       "3455858  364706.0   26285773.0  1510.885986 -0.490748         33.0   \n",
       "6150249  364705.0   32728534.0   900.009583  0.637667          6.0   \n",
       "3329447  364705.0   71931988.0   825.474121  0.666918         26.0   \n",
       "1919617  364704.0  103239477.0   524.123230 -0.756148         31.0   \n",
       "\n",
       "         jet_trackWidth  jet_trackC1  jet_trackBDT  jet_PartonTruthLabelID  \\\n",
       "3238411        0.014381     0.144946     -0.196504                     3.0   \n",
       "3455858        0.036924     0.204487      0.208877                     2.0   \n",
       "6150249        0.009031     0.108667     -0.554250                     2.0   \n",
       "3329447        0.052535     0.245859      0.195831                     1.0   \n",
       "1919617        0.074126     0.268501      0.334522                    21.0   \n",
       "\n",
       "         jet_cleaning  event_weight  is_forward  is_leading  pt_idx target  \\\n",
       "3238411           2.0      0.098855         1.0         0.0       0      0   \n",
       "3455858           2.0      0.015172         0.0         1.0       5      0   \n",
       "6150249           2.0      0.031934         0.0         0.0       2      0   \n",
       "3329447           2.0      0.046829         1.0         0.0       2      0   \n",
       "1919617           2.0      0.270055         0.0         0.0       0      1   \n",
       "\n",
       "         GBDT_newScore  jet_nTracks_quark_reweighting_weights  \\\n",
       "3238411      -1.729576                               0.098855   \n",
       "3455858       0.416297                               0.016162   \n",
       "6150249      -3.978440                               0.026166   \n",
       "3329447       0.728364                               0.046829   \n",
       "1919617       1.916185                               0.330709   \n",
       "\n",
       "         jet_nTracks_gluon_reweighting_weights  \\\n",
       "3238411                               0.098855   \n",
       "3455858                               0.015209   \n",
       "6150249                               0.026596   \n",
       "3329447                               0.046829   \n",
       "1919617                               0.291766   \n",
       "\n",
       "         GBDT_newScore_quark_reweighting_weights  \\\n",
       "3238411                                 0.098855   \n",
       "3455858                                 0.016798   \n",
       "6150249                                 0.031298   \n",
       "3329447                                 0.046829   \n",
       "1919617                                 0.350503   \n",
       "\n",
       "         GBDT_newScore_gluon_reweighting_weights  \n",
       "3238411                                 0.098855  \n",
       "3455858                                 0.015552  \n",
       "6150249                                 0.032372  \n",
       "3329447                                 0.046829  \n",
       "1919617                                 0.295033  "
      ]
     },
     "execution_count": 6,
     "metadata": {},
     "output_type": "execute_result"
    }
   ],
   "source": [
    "#sample.shape\n",
    "sample.head()"
   ]
  },
  {
   "cell_type": "code",
   "execution_count": 7,
   "metadata": {},
   "outputs": [],
   "source": [
    "sample_1 = sample[sample.columns[:15]]"
   ]
  },
  {
   "cell_type": "code",
   "execution_count": 8,
   "metadata": {},
   "outputs": [
    {
     "data": {
      "text/html": [
       "<div>\n",
       "<style scoped>\n",
       "    .dataframe tbody tr th:only-of-type {\n",
       "        vertical-align: middle;\n",
       "    }\n",
       "\n",
       "    .dataframe tbody tr th {\n",
       "        vertical-align: top;\n",
       "    }\n",
       "\n",
       "    .dataframe thead th {\n",
       "        text-align: right;\n",
       "    }\n",
       "</style>\n",
       "<table border=\"1\" class=\"dataframe\">\n",
       "  <thead>\n",
       "    <tr style=\"text-align: right;\">\n",
       "      <th></th>\n",
       "      <th>run</th>\n",
       "      <th>event</th>\n",
       "      <th>jet_pt</th>\n",
       "      <th>jet_eta</th>\n",
       "      <th>jet_nTracks</th>\n",
       "      <th>jet_trackWidth</th>\n",
       "      <th>jet_trackC1</th>\n",
       "      <th>jet_trackBDT</th>\n",
       "      <th>jet_PartonTruthLabelID</th>\n",
       "      <th>jet_cleaning</th>\n",
       "      <th>event_weight</th>\n",
       "      <th>is_forward</th>\n",
       "      <th>is_leading</th>\n",
       "      <th>pt_idx</th>\n",
       "      <th>target</th>\n",
       "    </tr>\n",
       "  </thead>\n",
       "  <tbody>\n",
       "    <tr>\n",
       "      <th>3238411</th>\n",
       "      <td>364704.0</td>\n",
       "      <td>125988131.0</td>\n",
       "      <td>557.613403</td>\n",
       "      <td>-0.455438</td>\n",
       "      <td>14.0</td>\n",
       "      <td>0.014381</td>\n",
       "      <td>0.144946</td>\n",
       "      <td>-0.196504</td>\n",
       "      <td>3.0</td>\n",
       "      <td>2.0</td>\n",
       "      <td>0.098855</td>\n",
       "      <td>1.0</td>\n",
       "      <td>0.0</td>\n",
       "      <td>0</td>\n",
       "      <td>0</td>\n",
       "    </tr>\n",
       "    <tr>\n",
       "      <th>3455858</th>\n",
       "      <td>364706.0</td>\n",
       "      <td>26285773.0</td>\n",
       "      <td>1510.885986</td>\n",
       "      <td>-0.490748</td>\n",
       "      <td>33.0</td>\n",
       "      <td>0.036924</td>\n",
       "      <td>0.204487</td>\n",
       "      <td>0.208877</td>\n",
       "      <td>2.0</td>\n",
       "      <td>2.0</td>\n",
       "      <td>0.015172</td>\n",
       "      <td>0.0</td>\n",
       "      <td>1.0</td>\n",
       "      <td>5</td>\n",
       "      <td>0</td>\n",
       "    </tr>\n",
       "    <tr>\n",
       "      <th>6150249</th>\n",
       "      <td>364705.0</td>\n",
       "      <td>32728534.0</td>\n",
       "      <td>900.009583</td>\n",
       "      <td>0.637667</td>\n",
       "      <td>6.0</td>\n",
       "      <td>0.009031</td>\n",
       "      <td>0.108667</td>\n",
       "      <td>-0.554250</td>\n",
       "      <td>2.0</td>\n",
       "      <td>2.0</td>\n",
       "      <td>0.031934</td>\n",
       "      <td>0.0</td>\n",
       "      <td>0.0</td>\n",
       "      <td>2</td>\n",
       "      <td>0</td>\n",
       "    </tr>\n",
       "    <tr>\n",
       "      <th>3329447</th>\n",
       "      <td>364705.0</td>\n",
       "      <td>71931988.0</td>\n",
       "      <td>825.474121</td>\n",
       "      <td>0.666918</td>\n",
       "      <td>26.0</td>\n",
       "      <td>0.052535</td>\n",
       "      <td>0.245859</td>\n",
       "      <td>0.195831</td>\n",
       "      <td>1.0</td>\n",
       "      <td>2.0</td>\n",
       "      <td>0.046829</td>\n",
       "      <td>1.0</td>\n",
       "      <td>0.0</td>\n",
       "      <td>2</td>\n",
       "      <td>0</td>\n",
       "    </tr>\n",
       "    <tr>\n",
       "      <th>1919617</th>\n",
       "      <td>364704.0</td>\n",
       "      <td>103239477.0</td>\n",
       "      <td>524.123230</td>\n",
       "      <td>-0.756148</td>\n",
       "      <td>31.0</td>\n",
       "      <td>0.074126</td>\n",
       "      <td>0.268501</td>\n",
       "      <td>0.334522</td>\n",
       "      <td>21.0</td>\n",
       "      <td>2.0</td>\n",
       "      <td>0.270055</td>\n",
       "      <td>0.0</td>\n",
       "      <td>0.0</td>\n",
       "      <td>0</td>\n",
       "      <td>1</td>\n",
       "    </tr>\n",
       "  </tbody>\n",
       "</table>\n",
       "</div>"
      ],
      "text/plain": [
       "              run        event       jet_pt   jet_eta  jet_nTracks  \\\n",
       "3238411  364704.0  125988131.0   557.613403 -0.455438         14.0   \n",
       "3455858  364706.0   26285773.0  1510.885986 -0.490748         33.0   \n",
       "6150249  364705.0   32728534.0   900.009583  0.637667          6.0   \n",
       "3329447  364705.0   71931988.0   825.474121  0.666918         26.0   \n",
       "1919617  364704.0  103239477.0   524.123230 -0.756148         31.0   \n",
       "\n",
       "         jet_trackWidth  jet_trackC1  jet_trackBDT  jet_PartonTruthLabelID  \\\n",
       "3238411        0.014381     0.144946     -0.196504                     3.0   \n",
       "3455858        0.036924     0.204487      0.208877                     2.0   \n",
       "6150249        0.009031     0.108667     -0.554250                     2.0   \n",
       "3329447        0.052535     0.245859      0.195831                     1.0   \n",
       "1919617        0.074126     0.268501      0.334522                    21.0   \n",
       "\n",
       "         jet_cleaning  event_weight  is_forward  is_leading  pt_idx target  \n",
       "3238411           2.0      0.098855         1.0         0.0       0      0  \n",
       "3455858           2.0      0.015172         0.0         1.0       5      0  \n",
       "6150249           2.0      0.031934         0.0         0.0       2      0  \n",
       "3329447           2.0      0.046829         1.0         0.0       2      0  \n",
       "1919617           2.0      0.270055         0.0         0.0       0      1  "
      ]
     },
     "execution_count": 8,
     "metadata": {},
     "output_type": "execute_result"
    }
   ],
   "source": [
    "sample_1.head()"
   ]
  },
  {
   "cell_type": "code",
   "execution_count": 8,
   "metadata": {},
   "outputs": [],
   "source": [
    "sample_g = sample_1[sample_1[\"target\"] == 1]\n",
    "sample_q = sample_1[sample_1[\"target\"] == 0]"
   ]
  },
  {
   "cell_type": "code",
   "execution_count": 9,
   "metadata": {},
   "outputs": [
    {
     "data": {
      "text/plain": [
       "<matplotlib.patches.StepPatch at 0x7f64b39f76a0>"
      ]
     },
     "execution_count": 9,
     "metadata": {},
     "output_type": "execute_result"
    },
    {
     "data": {
      "image/png": "[encoded data removed]",
      "text/plain": [
       "<Figure size 640x480 with 1 Axes>"
      ]
     },
     "metadata": {},
     "output_type": "display_data"
    }
   ],
   "source": [
    "pt_hist =Hist(hist.axis.Regular(bins=50, start=500, stop=2000, overflow=True, underflow=True), \n",
    "                                storage=hist.storage.Weight())\n",
    "pt_hist.fill(sample_q['jet_pt'], weight=sample_q['event_weight'])\n",
    "plt.stairs(np.log(pt_hist.values()), np.linspace(500,2000,51))\n",
    "#pt_hist.plot()\n",
    "pt_hist_g =Hist(hist.axis.Regular(bins=50, start=500, stop=2000, overflow=True, underflow=True), \n",
    "                                storage=hist.storage.Weight())\n",
    "pt_hist_g.fill(sample_g['jet_pt'], weight=sample_g['event_weight'])\n",
    "plt.stairs(np.log(pt_hist_g.values()), np.linspace(500,2000,51))"
   ]
  },
  {
   "cell_type": "code",
   "execution_count": 10,
   "metadata": {},
   "outputs": [],
   "source": [
    "flatpt_factor = 1.0 / pt_hist.values()\n",
    "flatpt_factor_g = 1.0 / pt_hist_g.values()"
   ]
  },
  {
   "cell_type": "code",
   "execution_count": 11,
   "metadata": {},
   "outputs": [],
   "source": [
    "pt_idx = np.digitize(sample_q['jet_pt'], bins=np.linspace(500,2000,51)) - 1\n",
    "pt_idx_g = np.digitize(sample_g['jet_pt'], bins=np.linspace(500,2000,51)) - 1"
   ]
  },
  {
   "cell_type": "code",
   "execution_count": 12,
   "metadata": {},
   "outputs": [
    {
     "name": "stderr",
     "output_type": "stream",
     "text": [
      "/tmp/ipykernel_120163/2679538622.py:1: SettingWithCopyWarning: \n",
      "A value is trying to be set on a copy of a slice from a DataFrame.\n",
      "Try using .loc[row_indexer,col_indexer] = value instead\n",
      "\n",
      "See the caveats in the documentation: https://pandas.pydata.org/pandas-docs/stable/user_guide/indexing.html#returning-a-view-versus-a-copy\n",
      "  sample_q['flatpt_weight'] = sample_q['event_weight'] * flatpt_factor[pt_idx]\n",
      "/tmp/ipykernel_120163/2679538622.py:2: SettingWithCopyWarning: \n",
      "A value is trying to be set on a copy of a slice from a DataFrame.\n",
      "Try using .loc[row_indexer,col_indexer] = value instead\n",
      "\n",
      "See the caveats in the documentation: https://pandas.pydata.org/pandas-docs/stable/user_guide/indexing.html#returning-a-view-versus-a-copy\n",
      "  sample_g['flatpt_weight'] = sample_g['event_weight'] * flatpt_factor_g[pt_idx_g]\n"
     ]
    }
   ],
   "source": [
    "sample_q['flatpt_weight'] = sample_q['event_weight'] * flatpt_factor[pt_idx]\n",
    "sample_g['flatpt_weight'] = sample_g['event_weight'] * flatpt_factor_g[pt_idx_g]"
   ]
  },
  {
   "cell_type": "code",
   "execution_count": 13,
   "metadata": {},
   "outputs": [
    {
     "data": {
      "text/plain": [
       "[StairsArtists(stairs=<matplotlib.patches.StepPatch object at 0x7f62878fb580>, errorbar=<ErrorbarContainer object of 3 artists>, legend_artist=<ErrorbarContainer object of 3 artists>)]"
      ]
     },
     "execution_count": 13,
     "metadata": {},
     "output_type": "execute_result"
    },
    {
     "data": {
      "image/png": "[encoded data removed]",
      "text/plain": [
       "<Figure size 640x480 with 1 Axes>"
      ]
     },
     "metadata": {},
     "output_type": "display_data"
    }
   ],
   "source": [
    "pt_hist_flat_pt =Hist(hist.axis.Regular(bins=50, start=500, stop=2000, overflow=True, underflow=True), \n",
    "                                storage=hist.storage.Weight())\n",
    "pt_hist_flat_pt.fill(sample_q['jet_pt'], weight=sample_q['flatpt_weight'])\n",
    "pt_hist_flat_pt.plot()\n",
    "\n",
    "pt_hist_flat_pt_g =Hist(hist.axis.Regular(bins=50, start=500, stop=2000, overflow=True, underflow=True), \n",
    "                                storage=hist.storage.Weight())\n",
    "pt_hist_flat_pt_g.fill(sample_g['jet_pt'], weight=sample_g['flatpt_weight'])\n",
    "pt_hist_flat_pt_g.plot()"
   ]
  },
  {
   "cell_type": "code",
   "execution_count": null,
   "metadata": {},
   "outputs": [],
   "source": [
    "sample_qg=[sample_q,sample_g]\n",
    "sample_all = pd.concat(sample_qg)"
   ]
  },
  {
   "cell_type": "code",
   "execution_count": null,
   "metadata": {},
   "outputs": [],
   "source": [
    "sample_all['target'] = sample_all['target'].astype(float)"
   ]
  },
  {
   "cell_type": "code",
   "execution_count": 16,
   "metadata": {},
   "outputs": [
    {
     "data": {
      "text/html": [
       "<div>\n",
       "<style scoped>\n",
       "    .dataframe tbody tr th:only-of-type {\n",
       "        vertical-align: middle;\n",
       "    }\n",
       "\n",
       "    .dataframe tbody tr th {\n",
       "        vertical-align: top;\n",
       "    }\n",
       "\n",
       "    .dataframe thead th {\n",
       "        text-align: right;\n",
       "    }\n",
       "</style>\n",
       "<table border=\"1\" class=\"dataframe\">\n",
       "  <thead>\n",
       "    <tr style=\"text-align: right;\">\n",
       "      <th></th>\n",
       "      <th>run</th>\n",
       "      <th>event</th>\n",
       "      <th>jet_pt</th>\n",
       "      <th>jet_eta</th>\n",
       "      <th>jet_nTracks</th>\n",
       "      <th>jet_trackWidth</th>\n",
       "      <th>jet_trackC1</th>\n",
       "      <th>jet_trackBDT</th>\n",
       "      <th>jet_PartonTruthLabelID</th>\n",
       "      <th>jet_cleaning</th>\n",
       "      <th>event_weight</th>\n",
       "      <th>is_forward</th>\n",
       "      <th>is_leading</th>\n",
       "      <th>pt_idx</th>\n",
       "      <th>target</th>\n",
       "      <th>flatpt_weight</th>\n",
       "    </tr>\n",
       "  </thead>\n",
       "  <tbody>\n",
       "    <tr>\n",
       "      <th>3238411</th>\n",
       "      <td>364704.0</td>\n",
       "      <td>125988131.0</td>\n",
       "      <td>557.613403</td>\n",
       "      <td>-0.455438</td>\n",
       "      <td>14.0</td>\n",
       "      <td>0.014381</td>\n",
       "      <td>0.144946</td>\n",
       "      <td>-0.196504</td>\n",
       "      <td>3.0</td>\n",
       "      <td>2.0</td>\n",
       "      <td>0.098855</td>\n",
       "      <td>1.0</td>\n",
       "      <td>0.0</td>\n",
       "      <td>0</td>\n",
       "      <td>0</td>\n",
       "      <td>2.492265e-07</td>\n",
       "    </tr>\n",
       "    <tr>\n",
       "      <th>3455858</th>\n",
       "      <td>364706.0</td>\n",
       "      <td>26285773.0</td>\n",
       "      <td>1510.885986</td>\n",
       "      <td>-0.490748</td>\n",
       "      <td>33.0</td>\n",
       "      <td>0.036924</td>\n",
       "      <td>0.204487</td>\n",
       "      <td>0.208877</td>\n",
       "      <td>2.0</td>\n",
       "      <td>2.0</td>\n",
       "      <td>0.015172</td>\n",
       "      <td>0.0</td>\n",
       "      <td>1.0</td>\n",
       "      <td>5</td>\n",
       "      <td>0</td>\n",
       "      <td>1.647423e-05</td>\n",
       "    </tr>\n",
       "    <tr>\n",
       "      <th>6150249</th>\n",
       "      <td>364705.0</td>\n",
       "      <td>32728534.0</td>\n",
       "      <td>900.009583</td>\n",
       "      <td>0.637667</td>\n",
       "      <td>6.0</td>\n",
       "      <td>0.009031</td>\n",
       "      <td>0.108667</td>\n",
       "      <td>-0.554250</td>\n",
       "      <td>2.0</td>\n",
       "      <td>2.0</td>\n",
       "      <td>0.031934</td>\n",
       "      <td>0.0</td>\n",
       "      <td>0.0</td>\n",
       "      <td>2</td>\n",
       "      <td>0</td>\n",
       "      <td>9.128982e-07</td>\n",
       "    </tr>\n",
       "    <tr>\n",
       "      <th>3329447</th>\n",
       "      <td>364705.0</td>\n",
       "      <td>71931988.0</td>\n",
       "      <td>825.474121</td>\n",
       "      <td>0.666918</td>\n",
       "      <td>26.0</td>\n",
       "      <td>0.052535</td>\n",
       "      <td>0.245859</td>\n",
       "      <td>0.195831</td>\n",
       "      <td>1.0</td>\n",
       "      <td>2.0</td>\n",
       "      <td>0.046829</td>\n",
       "      <td>1.0</td>\n",
       "      <td>0.0</td>\n",
       "      <td>2</td>\n",
       "      <td>0</td>\n",
       "      <td>6.821715e-07</td>\n",
       "    </tr>\n",
       "    <tr>\n",
       "      <th>261908</th>\n",
       "      <td>364704.0</td>\n",
       "      <td>309372077.0</td>\n",
       "      <td>734.820862</td>\n",
       "      <td>-1.906262</td>\n",
       "      <td>23.0</td>\n",
       "      <td>0.027613</td>\n",
       "      <td>0.190628</td>\n",
       "      <td>0.178136</td>\n",
       "      <td>2.0</td>\n",
       "      <td>2.0</td>\n",
       "      <td>0.162851</td>\n",
       "      <td>1.0</td>\n",
       "      <td>1.0</td>\n",
       "      <td>1</td>\n",
       "      <td>0</td>\n",
       "      <td>1.196111e-06</td>\n",
       "    </tr>\n",
       "  </tbody>\n",
       "</table>\n",
       "</div>"
      ],
      "text/plain": [
       "              run        event       jet_pt   jet_eta  jet_nTracks  \\\n",
       "3238411  364704.0  125988131.0   557.613403 -0.455438         14.0   \n",
       "3455858  364706.0   26285773.0  1510.885986 -0.490748         33.0   \n",
       "6150249  364705.0   32728534.0   900.009583  0.637667          6.0   \n",
       "3329447  364705.0   71931988.0   825.474121  0.666918         26.0   \n",
       "261908   364704.0  309372077.0   734.820862 -1.906262         23.0   \n",
       "\n",
       "         jet_trackWidth  jet_trackC1  jet_trackBDT  jet_PartonTruthLabelID  \\\n",
       "3238411        0.014381     0.144946     -0.196504                     3.0   \n",
       "3455858        0.036924     0.204487      0.208877                     2.0   \n",
       "6150249        0.009031     0.108667     -0.554250                     2.0   \n",
       "3329447        0.052535     0.245859      0.195831                     1.0   \n",
       "261908         0.027613     0.190628      0.178136                     2.0   \n",
       "\n",
       "         jet_cleaning  event_weight  is_forward  is_leading  pt_idx target  \\\n",
       "3238411           2.0      0.098855         1.0         0.0       0      0   \n",
       "3455858           2.0      0.015172         0.0         1.0       5      0   \n",
       "6150249           2.0      0.031934         0.0         0.0       2      0   \n",
       "3329447           2.0      0.046829         1.0         0.0       2      0   \n",
       "261908            2.0      0.162851         1.0         1.0       1      0   \n",
       "\n",
       "         flatpt_weight  \n",
       "3238411   2.492265e-07  \n",
       "3455858   1.647423e-05  \n",
       "6150249   9.128982e-07  \n",
       "3329447   6.821715e-07  \n",
       "261908    1.196111e-06  "
      ]
     },
     "execution_count": 16,
     "metadata": {},
     "output_type": "execute_result"
    }
   ],
   "source": [
    "sample_q.head()"
   ]
  },
  {
   "cell_type": "code",
   "execution_count": 17,
   "metadata": {},
   "outputs": [],
   "source": [
    "sample_all.to_pickle(\"training_sample_qg.pkl\")"
   ]
  },
  {
   "cell_type": "code",
   "execution_count": 2,
   "metadata": {},
   "outputs": [],
   "source": [
    "sample = pd.read_pickle('training_sample_qg.pkl')"
   ]
  },
  {
   "cell_type": "code",
   "execution_count": 18,
   "metadata": {},
   "outputs": [
    {
     "name": "stderr",
     "output_type": "stream",
     "text": [
      "/global/cfs/projectdirs/atlas/wys/miniconda3/envs/ml/lib/python3.9/site-packages/tqdm/auto.py:21: TqdmWarning: IProgress not found. Please update jupyter and ipywidgets. See https://ipywidgets.readthedocs.io/en/stable/user_install.html\n",
      "  from .autonotebook import tqdm as notebook_tqdm\n"
     ]
    }
   ],
   "source": [
    "# %%\n",
    "import optuna\n",
    "import lightgbm as lgb\n",
    "from sklearn.model_selection import train_test_split\n",
    "from sklearn.metrics import accuracy_score\n",
    "from sklearn.metrics import classification_report\n",
    "from sklearn.datasets import load_wine\n",
    "import optuna\n",
    "from optuna.samplers import TPESampler\n",
    "import pickle\n",
    "import pandas as pd \n",
    "import joblib\n",
    "import os, sys \n",
    "sys.path.append('/global/cfs/projectdirs/atlas/hrzhao/HEP_Repo/QG_Calibration/BDT_EB4/LightGBM')\n",
    "from LightGBM_BDT_train import *"
   ]
  },
  {
   "cell_type": "code",
   "execution_count": 29,
   "metadata": {},
   "outputs": [],
   "source": [
    "sample_all['target'] = sample_all['target'].astype(float)"
   ]
  },
  {
   "cell_type": "code",
   "execution_count": 30,
   "metadata": {},
   "outputs": [],
   "source": [
    "training_vars = ['jet_pt', 'jet_nTracks', 'jet_trackWidth', 'jet_trackC1']\n",
    "training_weight = ['flatpt_weight']\n",
    "\n",
    "label_pt_bin = [500, 600, 800, 1000, 1200, 1500, 2000]\n",
    "\n",
    "target_idx = sample_all.columns.get_loc('target')\n",
    "y = sample_all.iloc[:, target_idx]\n",
    "X = sample_all.drop(columns = 'target')\n",
    "\n",
    "X_dev,X_test, y_dev,y_test = train_test_split(X, y, test_size=0.1, random_state=456)\n",
    "X_train, X_val, y_train, y_val = train_test_split(X_dev, y_dev, test_size=0.1/0.9, random_state=789)\n"
   ]
  },
  {
   "cell_type": "code",
   "execution_count": 31,
   "metadata": {},
   "outputs": [
    {
     "data": {
      "text/plain": [
       "3563797    0.0\n",
       "3077177    0.0\n",
       "3480746    0.0\n",
       "2140521    0.0\n",
       "1348815    1.0\n",
       "          ... \n",
       "3979805    0.0\n",
       "2491139    0.0\n",
       "2609743    0.0\n",
       "165387     1.0\n",
       "2139592    1.0\n",
       "Name: target, Length: 36196182, dtype: float64"
      ]
     },
     "execution_count": 31,
     "metadata": {},
     "output_type": "execute_result"
    }
   ],
   "source": [
    "y_train"
   ]
  },
  {
   "cell_type": "code",
   "execution_count": 32,
   "metadata": {},
   "outputs": [
    {
     "name": "stdout",
     "output_type": "stream",
     "text": [
      "[1]\tvalid_0's binary_logloss: 0.663151\tvalid_0's auc: 0.821312\n",
      "[2]\tvalid_0's binary_logloss: 0.638609\tvalid_0's auc: 0.824372\n",
      "[3]\tvalid_0's binary_logloss: 0.618339\tvalid_0's auc: 0.824967\n",
      "[4]\tvalid_0's binary_logloss: 0.601435\tvalid_0's auc: 0.825532\n",
      "[5]\tvalid_0's binary_logloss: 0.587168\tvalid_0's auc: 0.826249\n",
      "[6]\tvalid_0's binary_logloss: 0.575134\tvalid_0's auc: 0.826932\n",
      "[7]\tvalid_0's binary_logloss: 0.564992\tvalid_0's auc: 0.827248\n",
      "[8]\tvalid_0's binary_logloss: 0.556376\tvalid_0's auc: 0.827557\n",
      "[9]\tvalid_0's binary_logloss: 0.548994\tvalid_0's auc: 0.827902\n",
      "[10]\tvalid_0's binary_logloss: 0.542704\tvalid_0's auc: 0.828176\n",
      "[11]\tvalid_0's binary_logloss: 0.537282\tvalid_0's auc: 0.828468\n",
      "[12]\tvalid_0's binary_logloss: 0.532673\tvalid_0's auc: 0.828695\n",
      "[13]\tvalid_0's binary_logloss: 0.528778\tvalid_0's auc: 0.828814\n",
      "[14]\tvalid_0's binary_logloss: 0.52531\tvalid_0's auc: 0.829092\n"
     ]
    },
    {
     "ename": "KeyboardInterrupt",
     "evalue": "",
     "output_type": "error",
     "traceback": [
      "\u001b[0;31m---------------------------------------------------------------------------\u001b[0m",
      "\u001b[0;31mKeyboardInterrupt\u001b[0m                         Traceback (most recent call last)",
      "\u001b[1;32m/global/cfs/projectdirs/atlas/wys/QG_Calibration/LightGBM/prepare_training.ipynb Cell 24\u001b[0m in \u001b[0;36m4\n\u001b[1;32m      <a href='vscode-notebook-cell://ssh-remote%2Bperlmutter-p1.nersc.gov/global/cfs/projectdirs/atlas/wys/QG_Calibration/LightGBM/prepare_training.ipynb#X34sdnNjb2RlLXJlbW90ZQ%3D%3D?line=0'>1</a>\u001b[0m base_model \u001b[39m=\u001b[39m lgb\u001b[39m.\u001b[39mLGBMClassifier(random_state\u001b[39m=\u001b[39m\u001b[39m42\u001b[39m)\n\u001b[1;32m      <a href='vscode-notebook-cell://ssh-remote%2Bperlmutter-p1.nersc.gov/global/cfs/projectdirs/atlas/wys/QG_Calibration/LightGBM/prepare_training.ipynb#X34sdnNjb2RlLXJlbW90ZQ%3D%3D?line=1'>2</a>\u001b[0m  \u001b[39m#base_model.fit(X_train[training_vars], y_train, sample_weight=X_train[training_weight].to_numpy().flatten())\u001b[39;00m\n\u001b[0;32m----> <a href='vscode-notebook-cell://ssh-remote%2Bperlmutter-p1.nersc.gov/global/cfs/projectdirs/atlas/wys/QG_Calibration/LightGBM/prepare_training.ipynb#X34sdnNjb2RlLXJlbW90ZQ%3D%3D?line=3'>4</a>\u001b[0m base_model\u001b[39m.\u001b[39;49mfit(X \u001b[39m=\u001b[39;49m X_train[training_vars], y \u001b[39m=\u001b[39;49m y_train, sample_weight\u001b[39m=\u001b[39;49mX_train[training_weight]\u001b[39m.\u001b[39;49mto_numpy()\u001b[39m.\u001b[39;49mflatten(),\n\u001b[1;32m      <a href='vscode-notebook-cell://ssh-remote%2Bperlmutter-p1.nersc.gov/global/cfs/projectdirs/atlas/wys/QG_Calibration/LightGBM/prepare_training.ipynb#X34sdnNjb2RlLXJlbW90ZQ%3D%3D?line=4'>5</a>\u001b[0m                eval_set \u001b[39m=\u001b[39;49m [(X_val[training_vars], y_val)], eval_sample_weight \u001b[39m=\u001b[39;49m [X_val[training_weight]\u001b[39m.\u001b[39;49mto_numpy()\u001b[39m.\u001b[39;49mflatten()],\n\u001b[1;32m      <a href='vscode-notebook-cell://ssh-remote%2Bperlmutter-p1.nersc.gov/global/cfs/projectdirs/atlas/wys/QG_Calibration/LightGBM/prepare_training.ipynb#X34sdnNjb2RlLXJlbW90ZQ%3D%3D?line=5'>6</a>\u001b[0m                eval_metric \u001b[39m=\u001b[39;49m [\u001b[39m'\u001b[39;49m\u001b[39mbinary_logloss\u001b[39;49m\u001b[39m'\u001b[39;49m, \u001b[39m'\u001b[39;49m\u001b[39mauc\u001b[39;49m\u001b[39m'\u001b[39;49m])\n",
      "File \u001b[0;32m/global/cfs/projectdirs/atlas/wys/miniconda3/envs/ml/lib/python3.9/site-packages/lightgbm/sklearn.py:967\u001b[0m, in \u001b[0;36mLGBMClassifier.fit\u001b[0;34m(self, X, y, sample_weight, init_score, eval_set, eval_names, eval_sample_weight, eval_class_weight, eval_init_score, eval_metric, early_stopping_rounds, verbose, feature_name, categorical_feature, callbacks, init_model)\u001b[0m\n\u001b[1;32m    964\u001b[0m         \u001b[39melse\u001b[39;00m:\n\u001b[1;32m    965\u001b[0m             valid_sets[i] \u001b[39m=\u001b[39m (valid_x, \u001b[39mself\u001b[39m\u001b[39m.\u001b[39m_le\u001b[39m.\u001b[39mtransform(valid_y))\n\u001b[0;32m--> 967\u001b[0m \u001b[39msuper\u001b[39;49m()\u001b[39m.\u001b[39;49mfit(X, _y, sample_weight\u001b[39m=\u001b[39;49msample_weight, init_score\u001b[39m=\u001b[39;49minit_score, eval_set\u001b[39m=\u001b[39;49mvalid_sets,\n\u001b[1;32m    968\u001b[0m             eval_names\u001b[39m=\u001b[39;49meval_names, eval_sample_weight\u001b[39m=\u001b[39;49meval_sample_weight,\n\u001b[1;32m    969\u001b[0m             eval_class_weight\u001b[39m=\u001b[39;49meval_class_weight, eval_init_score\u001b[39m=\u001b[39;49meval_init_score,\n\u001b[1;32m    970\u001b[0m             eval_metric\u001b[39m=\u001b[39;49meval_metric, early_stopping_rounds\u001b[39m=\u001b[39;49mearly_stopping_rounds,\n\u001b[1;32m    971\u001b[0m             verbose\u001b[39m=\u001b[39;49mverbose, feature_name\u001b[39m=\u001b[39;49mfeature_name, categorical_feature\u001b[39m=\u001b[39;49mcategorical_feature,\n\u001b[1;32m    972\u001b[0m             callbacks\u001b[39m=\u001b[39;49mcallbacks, init_model\u001b[39m=\u001b[39;49minit_model)\n\u001b[1;32m    973\u001b[0m \u001b[39mreturn\u001b[39;00m \u001b[39mself\u001b[39m\n",
      "File \u001b[0;32m/global/cfs/projectdirs/atlas/wys/miniconda3/envs/ml/lib/python3.9/site-packages/lightgbm/sklearn.py:748\u001b[0m, in \u001b[0;36mLGBMModel.fit\u001b[0;34m(self, X, y, sample_weight, init_score, group, eval_set, eval_names, eval_sample_weight, eval_class_weight, eval_init_score, eval_group, eval_metric, early_stopping_rounds, verbose, feature_name, categorical_feature, callbacks, init_model)\u001b[0m\n\u001b[1;32m    745\u001b[0m evals_result \u001b[39m=\u001b[39m {}\n\u001b[1;32m    746\u001b[0m callbacks\u001b[39m.\u001b[39mappend(record_evaluation(evals_result))\n\u001b[0;32m--> 748\u001b[0m \u001b[39mself\u001b[39m\u001b[39m.\u001b[39m_Booster \u001b[39m=\u001b[39m train(\n\u001b[1;32m    749\u001b[0m     params\u001b[39m=\u001b[39;49mparams,\n\u001b[1;32m    750\u001b[0m     train_set\u001b[39m=\u001b[39;49mtrain_set,\n\u001b[1;32m    751\u001b[0m     num_boost_round\u001b[39m=\u001b[39;49m\u001b[39mself\u001b[39;49m\u001b[39m.\u001b[39;49mn_estimators,\n\u001b[1;32m    752\u001b[0m     valid_sets\u001b[39m=\u001b[39;49mvalid_sets,\n\u001b[1;32m    753\u001b[0m     valid_names\u001b[39m=\u001b[39;49meval_names,\n\u001b[1;32m    754\u001b[0m     fobj\u001b[39m=\u001b[39;49m\u001b[39mself\u001b[39;49m\u001b[39m.\u001b[39;49m_fobj,\n\u001b[1;32m    755\u001b[0m     feval\u001b[39m=\u001b[39;49meval_metrics_callable,\n\u001b[1;32m    756\u001b[0m     init_model\u001b[39m=\u001b[39;49minit_model,\n\u001b[1;32m    757\u001b[0m     feature_name\u001b[39m=\u001b[39;49mfeature_name,\n\u001b[1;32m    758\u001b[0m     callbacks\u001b[39m=\u001b[39;49mcallbacks\n\u001b[1;32m    759\u001b[0m )\n\u001b[1;32m    761\u001b[0m \u001b[39mif\u001b[39;00m evals_result:\n\u001b[1;32m    762\u001b[0m     \u001b[39mself\u001b[39m\u001b[39m.\u001b[39m_evals_result \u001b[39m=\u001b[39m evals_result\n",
      "File \u001b[0;32m/global/cfs/projectdirs/atlas/wys/miniconda3/envs/ml/lib/python3.9/site-packages/lightgbm/engine.py:299\u001b[0m, in \u001b[0;36mtrain\u001b[0;34m(params, train_set, num_boost_round, valid_sets, valid_names, fobj, feval, init_model, feature_name, categorical_feature, early_stopping_rounds, evals_result, verbose_eval, learning_rates, keep_training_booster, callbacks)\u001b[0m\n\u001b[1;32m    297\u001b[0m     \u001b[39mif\u001b[39;00m is_valid_contain_train:\n\u001b[1;32m    298\u001b[0m         evaluation_result_list\u001b[39m.\u001b[39mextend(booster\u001b[39m.\u001b[39meval_train(feval))\n\u001b[0;32m--> 299\u001b[0m     evaluation_result_list\u001b[39m.\u001b[39mextend(booster\u001b[39m.\u001b[39;49meval_valid(feval))\n\u001b[1;32m    300\u001b[0m \u001b[39mtry\u001b[39;00m:\n\u001b[1;32m    301\u001b[0m     \u001b[39mfor\u001b[39;00m cb \u001b[39min\u001b[39;00m callbacks_after_iter:\n",
      "File \u001b[0;32m/global/cfs/projectdirs/atlas/wys/miniconda3/envs/ml/lib/python3.9/site-packages/lightgbm/basic.py:3271\u001b[0m, in \u001b[0;36mBooster.eval_valid\u001b[0;34m(self, feval)\u001b[0m\n\u001b[1;32m   3240\u001b[0m \u001b[39mdef\u001b[39;00m \u001b[39meval_valid\u001b[39m(\u001b[39mself\u001b[39m, feval\u001b[39m=\u001b[39m\u001b[39mNone\u001b[39;00m):\n\u001b[1;32m   3241\u001b[0m \u001b[39m    \u001b[39m\u001b[39m\"\"\"Evaluate for validation data.\u001b[39;00m\n\u001b[1;32m   3242\u001b[0m \n\u001b[1;32m   3243\u001b[0m \u001b[39m    Parameters\u001b[39;00m\n\u001b[0;32m   (...)\u001b[0m\n\u001b[1;32m   3269\u001b[0m \u001b[39m        List with evaluation results.\u001b[39;00m\n\u001b[1;32m   3270\u001b[0m \u001b[39m    \"\"\"\u001b[39;00m\n\u001b[0;32m-> 3271\u001b[0m     \u001b[39mreturn\u001b[39;00m [item \u001b[39mfor\u001b[39;00m i \u001b[39min\u001b[39;00m \u001b[39mrange\u001b[39m(\u001b[39m1\u001b[39m, \u001b[39mself\u001b[39m\u001b[39m.\u001b[39m__num_dataset)\n\u001b[1;32m   3272\u001b[0m             \u001b[39mfor\u001b[39;00m item \u001b[39min\u001b[39;00m \u001b[39mself\u001b[39m\u001b[39m.\u001b[39m__inner_eval(\u001b[39mself\u001b[39m\u001b[39m.\u001b[39mname_valid_sets[i \u001b[39m-\u001b[39m \u001b[39m1\u001b[39m], i, feval)]\n",
      "File \u001b[0;32m/global/cfs/projectdirs/atlas/wys/miniconda3/envs/ml/lib/python3.9/site-packages/lightgbm/basic.py:3272\u001b[0m, in \u001b[0;36m<listcomp>\u001b[0;34m(.0)\u001b[0m\n\u001b[1;32m   3240\u001b[0m \u001b[39mdef\u001b[39;00m \u001b[39meval_valid\u001b[39m(\u001b[39mself\u001b[39m, feval\u001b[39m=\u001b[39m\u001b[39mNone\u001b[39;00m):\n\u001b[1;32m   3241\u001b[0m \u001b[39m    \u001b[39m\u001b[39m\"\"\"Evaluate for validation data.\u001b[39;00m\n\u001b[1;32m   3242\u001b[0m \n\u001b[1;32m   3243\u001b[0m \u001b[39m    Parameters\u001b[39;00m\n\u001b[0;32m   (...)\u001b[0m\n\u001b[1;32m   3269\u001b[0m \u001b[39m        List with evaluation results.\u001b[39;00m\n\u001b[1;32m   3270\u001b[0m \u001b[39m    \"\"\"\u001b[39;00m\n\u001b[1;32m   3271\u001b[0m     \u001b[39mreturn\u001b[39;00m [item \u001b[39mfor\u001b[39;00m i \u001b[39min\u001b[39;00m \u001b[39mrange\u001b[39m(\u001b[39m1\u001b[39m, \u001b[39mself\u001b[39m\u001b[39m.\u001b[39m__num_dataset)\n\u001b[0;32m-> 3272\u001b[0m             \u001b[39mfor\u001b[39;00m item \u001b[39min\u001b[39;00m \u001b[39mself\u001b[39;49m\u001b[39m.\u001b[39;49m__inner_eval(\u001b[39mself\u001b[39;49m\u001b[39m.\u001b[39;49mname_valid_sets[i \u001b[39m-\u001b[39;49m \u001b[39m1\u001b[39;49m], i, feval)]\n",
      "File \u001b[0;32m/global/cfs/projectdirs/atlas/wys/miniconda3/envs/ml/lib/python3.9/site-packages/lightgbm/basic.py:3789\u001b[0m, in \u001b[0;36mBooster.__inner_eval\u001b[0;34m(self, data_name, data_idx, feval)\u001b[0m\n\u001b[1;32m   3787\u001b[0m result \u001b[39m=\u001b[39m np\u001b[39m.\u001b[39mempty(\u001b[39mself\u001b[39m\u001b[39m.\u001b[39m__num_inner_eval, dtype\u001b[39m=\u001b[39mnp\u001b[39m.\u001b[39mfloat64)\n\u001b[1;32m   3788\u001b[0m tmp_out_len \u001b[39m=\u001b[39m ctypes\u001b[39m.\u001b[39mc_int(\u001b[39m0\u001b[39m)\n\u001b[0;32m-> 3789\u001b[0m _safe_call(_LIB\u001b[39m.\u001b[39;49mLGBM_BoosterGetEval(\n\u001b[1;32m   3790\u001b[0m     \u001b[39mself\u001b[39;49m\u001b[39m.\u001b[39;49mhandle,\n\u001b[1;32m   3791\u001b[0m     ctypes\u001b[39m.\u001b[39;49mc_int(data_idx),\n\u001b[1;32m   3792\u001b[0m     ctypes\u001b[39m.\u001b[39;49mbyref(tmp_out_len),\n\u001b[1;32m   3793\u001b[0m     result\u001b[39m.\u001b[39;49mctypes\u001b[39m.\u001b[39;49mdata_as(ctypes\u001b[39m.\u001b[39;49mPOINTER(ctypes\u001b[39m.\u001b[39;49mc_double))))\n\u001b[1;32m   3794\u001b[0m \u001b[39mif\u001b[39;00m tmp_out_len\u001b[39m.\u001b[39mvalue \u001b[39m!=\u001b[39m \u001b[39mself\u001b[39m\u001b[39m.\u001b[39m__num_inner_eval:\n\u001b[1;32m   3795\u001b[0m     \u001b[39mraise\u001b[39;00m \u001b[39mValueError\u001b[39;00m(\u001b[39m\"\u001b[39m\u001b[39mWrong length of eval results\u001b[39m\u001b[39m\"\u001b[39m)\n",
      "\u001b[0;31mKeyboardInterrupt\u001b[0m: "
     ]
    }
   ],
   "source": [
    " \n",
    " \n",
    "base_model = lgb.LGBMClassifier(random_state=42)\n",
    " #base_model.fit(X_train[training_vars], y_train, sample_weight=X_train[training_weight].to_numpy().flatten())\n",
    "\n",
    "base_model.fit(X = X_train[training_vars], y = y_train, sample_weight=X_train[training_weight].to_numpy().flatten(),\n",
    "               eval_set = [(X_val[training_vars], y_val)], eval_sample_weight = [X_val[training_weight].to_numpy().flatten()],\n",
    "               eval_metric = ['binary_logloss', 'auc'])"
   ]
  },
  {
   "cell_type": "code",
   "execution_count": null,
   "metadata": {},
   "outputs": [],
   "source": []
  }
 ],
 "metadata": {
  "kernelspec": {
   "display_name": "ml",
   "language": "python",
   "name": "python3"
  },
  "language_info": {
   "codemirror_mode": {
    "name": "ipython",
    "version": 3
   },
   "file_extension": ".py",
   "mimetype": "text/x-python",
   "name": "python",
   "nbconvert_exporter": "python",
   "pygments_lexer": "ipython3",
   "version": "3.9.15"
  },
  "orig_nbformat": 4,
  "vscode": {
   "interpreter": {
    "hash": "14e3b66b9136298b1438aa954b24fb6042eb4a7b64fe2e32b506f4a92d36ab42"
   }
  }
 },
 "nbformat": 4,
 "nbformat_minor": 2
}
