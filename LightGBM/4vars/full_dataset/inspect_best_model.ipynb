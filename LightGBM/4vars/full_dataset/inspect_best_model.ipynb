{
 "cells": [
  {
   "cell_type": "code",
   "execution_count": 1,
   "metadata": {},
   "outputs": [
    {
     "name": "stderr",
     "output_type": "stream",
     "text": [
      "/global/cfs/projectdirs/atlas/wys/miniconda3/envs/ml/lib/python3.9/site-packages/tqdm/auto.py:21: TqdmWarning: IProgress not found. Please update jupyter and ipywidgets. See https://ipywidgets.readthedocs.io/en/stable/user_install.html\n",
      "  from .autonotebook import tqdm as notebook_tqdm\n"
     ]
    }
   ],
   "source": [
    "# %%\n",
    "import optuna\n",
    "import lightgbm as lgb\n",
    "from sklearn.model_selection import train_test_split\n",
    "from sklearn.metrics import accuracy_score\n",
    "from sklearn.metrics import classification_report\n",
    "from sklearn.datasets import load_wine\n",
    "import optuna\n",
    "from optuna.samplers import TPESampler\n",
    "import pickle\n",
    "import pandas as pd \n",
    "import joblib\n",
    "import os, sys \n",
    "sys.path.append('/global/cfs/projectdirs/atlas/hrzhao/HEP_Repo/QG_Calibration/BDT_EB4/LightGBM')\n",
    "from LightGBM_BDT_train import *\n",
    "\n",
    "import hist\n",
    "from hist import Hist\n",
    "import numpy as np"
   ]
  },
  {
   "cell_type": "code",
   "execution_count": 2,
   "metadata": {},
   "outputs": [],
   "source": [
    "sample_path = '/global/cfs/projectdirs/atlas/hrzhao/HEP_Repo/QG_Calibration/NewWorkflow/LightGBM/training_sample.pkl'\n",
    "output_path = './inspect_best/'\n"
   ]
  },
  {
   "cell_type": "code",
   "execution_count": 3,
   "metadata": {},
   "outputs": [],
   "source": [
    "output_folder = Path(output_path)\n",
    "if not output_folder.exists():\n",
    "    output_folder.mkdir(parents=True, exist_ok=True)\n",
    "\n",
    "training_vars = ['jet_pt', 'jet_nTracks', 'jet_trackWidth', 'jet_trackC1']\n",
    "label_pt_bin = [500, 600, 800, 1000, 1200, 1500, 2000]\n"
   ]
  },
  {
   "cell_type": "code",
   "execution_count": 4,
   "metadata": {},
   "outputs": [],
   "source": [
    "sample = pd.read_pickle(sample_path)\n"
   ]
  },
  {
   "cell_type": "code",
   "execution_count": 5,
   "metadata": {},
   "outputs": [],
   "source": [
    "target_idx = sample.columns.get_loc('target')\n",
    "y = sample.iloc[:, target_idx]\n",
    "X = sample.drop(columns = 'target')\n",
    "\n",
    "X_dev,X_test, y_dev,y_test = train_test_split(X, y, test_size=0.1, random_state=456)\n",
    "X_train, X_val, y_train, y_val = train_test_split(X_dev, y_dev, test_size=0.1/0.9, random_state=789)"
   ]
  },
  {
   "cell_type": "code",
   "execution_count": 4,
   "metadata": {},
   "outputs": [],
   "source": [
    "best_model = joblib.load('./lightgbm_gbdt_qg_20.pkl')\n",
    "#best_model = joblib.load('./lightgbm_gbdt.pkl')"
   ]
  },
  {
   "cell_type": "code",
   "execution_count": 5,
   "metadata": {},
   "outputs": [
    {
     "name": "stdout",
     "output_type": "stream",
     "text": [
      "LGBMClassifier(bagging_fraction=0.8111317002380557, bagging_freq=2,\n",
      "               feature_fraction=0.6515167086419769,\n",
      "               lambda_l1=1.2883876209377052e-05, lambda_l2=3.72312200494449e-05,\n",
      "               min_child_samples=89, num_leaves=139)\n"
     ]
    }
   ],
   "source": [
    "print(best_model)"
   ]
  },
  {
   "cell_type": "code",
   "execution_count": 8,
   "metadata": {},
   "outputs": [],
   "source": [
    "y_train_decisions = best_model.predict(X_train[training_vars], raw_score = True)\n",
    "y_test_decisions = best_model.predict(X_test[training_vars], raw_score = True)"
   ]
  },
  {
   "cell_type": "code",
   "execution_count": 9,
   "metadata": {},
   "outputs": [],
   "source": [
    "X_train['newGBDT_score'] = y_train_decisions\n",
    "X_test['newGBDT_score'] = y_test_decisions"
   ]
  },
  {
   "cell_type": "code",
   "execution_count": 25,
   "metadata": {},
   "outputs": [],
   "source": [
    "plot_ROC(y_decisions=y_test_decisions, y_tmva=X_test.iloc[:,X_test.columns.get_loc('jet_trackBDT')], \n",
    "                 y_ntrk=X_test.iloc[:,X_test.columns.get_loc('jet_nTracks')], target=y_test, \n",
    "                 X_weight=X_test['event_weight'], features=f\" {len(training_vars)} vars\", output_path=output_path)"
   ]
  },
  {
   "cell_type": "code",
   "execution_count": 11,
   "metadata": {},
   "outputs": [],
   "source": [
    "plot_overtraining_validation(X_dev=X_train, X_test=X_test, y_dev=y_train, y_test=y_test, \n",
    "                                    y_dev_decisions=y_train_decisions, y_test_decisions=y_test_decisions, \n",
    "                                    output_path=output_path)"
   ]
  },
  {
   "cell_type": "code",
   "execution_count": 12,
   "metadata": {},
   "outputs": [],
   "source": [
    "sample_test = pd.concat((X_test, y_test), axis=1)"
   ]
  },
  {
   "cell_type": "code",
   "execution_count": 13,
   "metadata": {},
   "outputs": [],
   "source": [
    "sample_1500 = sample_test.loc[sample_test['pt_idx']==5]"
   ]
  },
  {
   "cell_type": "code",
   "execution_count": 14,
   "metadata": {},
   "outputs": [],
   "source": [
    "sample_1500_forward = sample_1500.loc[sample_1500['is_forward']==1]\n",
    "sample_1500_central = sample_1500.loc[sample_1500['is_forward']==0]"
   ]
  },
  {
   "cell_type": "code",
   "execution_count": 15,
   "metadata": {},
   "outputs": [
    {
     "data": {
      "text/html": [
       "<html>\n",
       "<div style=\"display:flex; align-items:center;\">\n",
       "<div style=\"width:290px;\">\n",
       "<svg xmlns=\"http://www.w3.org/2000/svg\" viewBox=\"-10 -105 270 120\">\n",
       "<line x1=\"-5\" y1=\"0\" x2=\"255\" y2=\"0\" style=\"fill:none;stroke-width:2;stroke:currentColor\"/>\n",
       "<text text-anchor=\"middle\" x=\"0\" y=\"15\" style=\"fill:currentColor;\">\n",
       "-5\n",
       "</text>\n",
       "<text text-anchor=\"middle\" x=\"250\" y=\"15\" style=\"fill:currentColor;\">\n",
       "5\n",
       "</text>\n",
       "<text text-anchor=\"middle\" x=\"125.0\" y=\"15\" style=\"fill:currentColor;\">\n",
       "Axis 0\n",
       "</text>\n",
       "<polyline points=\"  0,0   0,-21.8 2.5,-21.8 2.5,-26.4   5,-26.4   5,-30.4 7.5,-30.4 7.5,-37.6  10,-37.6  10,-39.5 12.5,-39.5 12.5,-42.5  15,-42.5  15,-44.8 17.5,-44.8 17.5,-46.2  20,-46.2  20,-45.8 22.5,-45.8 22.5,-44.3  25,-44.3  25,-45.7 27.5,-45.7 27.5,-43.7  30,-43.7  30,-43.6 32.5,-43.6 32.5,-44.4  35,-44.4  35,-41.6 37.5,-41.6 37.5,-45.4  40,-45.4  40,-46.5 42.5,-46.5 42.5,-45  45,-45  45,-48.5 47.5,-48.5 47.5,-54.7  50,-54.7  50,-45 52.5,-45 52.5,-44.2  55,-44.2  55,-50.4 57.5,-50.4 57.5,-50.8  60,-50.8  60,-51.6 62.5,-51.6 62.5,-58.4  65,-58.4  65,-59.3 67.5,-59.3 67.5,-65.3  70,-65.3  70,-70 72.5,-70 72.5,-68.1  75,-68.1  75,-71 77.5,-71 77.5,-81.2  80,-81.2  80,-81.2 82.5,-81.2 82.5,-76.1  85,-76.1  85,-81.8 87.5,-81.8 87.5,-91.9  90,-91.9  90,-89.2 92.5,-89.2 92.5,-90.4  95,-90.4  95,-96.2 97.5,-96.2 97.5,-94.1 100,-94.1 100,-100 102.5,-100 102.5,-88.6 105,-88.6 105,-86.6 107.5,-86.6 107.5,-82.9 110,-82.9 110,-78.4 112.5,-78.4 112.5,-78.4 115,-78.4 115,-79.8 117.5,-79.8 117.5,-80.5 120,-80.5 120,-77.7 122.5,-77.7 122.5,-77.2 125,-77.2 125,-76.9 127.5,-76.9 127.5,-75.1 130,-75.1 130,-71.2 132.5,-71.2 132.5,-65.8 135,-65.8 135,-65.5 137.5,-65.5 137.5,-57.1 140,-57.1 140,-55.3 142.5,-55.3 142.5,-54.6 145,-54.6 145,-47.6 147.5,-47.6 147.5,-44.1 150,-44.1 150,-38.2 152.5,-38.2 152.5,-38.4 155,-38.4 155,-32.7 157.5,-32.7 157.5,-27.5 160,-27.5 160,-24.1 162.5,-24.1 162.5,-18.4 165,-18.4 165,-13.9 167.5,-13.9 167.5,-12.2 170,-12.2 170,-9.57 172.5,-9.57 172.5,-7.13 175,-7.13 175,-5.35 177.5,-5.35 177.5,-3.69 180,-3.69 180,-2.46 182.5,-2.46 182.5,-1.01 185,-1.01 185,-0.889 187.5,-0.889 187.5,-0.761 190,-0.761 190,-0.46 192.5,-0.46 192.5,-0.158 195,-0.158 195,-0.161 197.5,-0.161 197.5,-0.0369 200,-0.0369 200,-0.0274 202.5,-0.0274 202.5,-0.0168 205,-0.0168 205,-0.00585 207.5,-0.00585 207.5,-0 210,-0 210,-0 212.5,-0 212.5,-0 215,-0 215,-0 217.5,-0 217.5,-0 220,-0 220,-0 222.5,-0 222.5,-0 225,-0 225,-0 227.5,-0 227.5,-0 230,-0 230,-0 232.5,-0 232.5,-0 235,-0 235,-0 237.5,-0 237.5,-0 240,-0 240,-0 242.5,-0 242.5,-0 245,-0 245,-0 247.5,-0 247.5,-0 250,-0 250,0\" style=\"fill:none; stroke:currentColor;\"/>\n",
       "</svg>\n",
       "</div>\n",
       "<div style=\"flex=grow:1;\">\n",
       "Regular(100, -5, 5, label='Axis 0')<br/>\n",
       "<hr style=\"margin-top:.2em; margin-bottom:.2em;\"/>\n",
       "Weight() Σ=WeightedSum(value=1519.04, variance=15.8395) <em>(WeightedSum(value=1534.39, variance=15.9517) with flow)</em>\n",
       "\n",
       "</div>\n",
       "</div>\n",
       "</html>"
      ],
      "text/plain": [
       "Hist(Regular(100, -5, 5, label='Axis 0'), storage=Weight()) # Sum: WeightedSum(value=1519.04, variance=15.8395) (WeightedSum(value=1534.39, variance=15.9517) with flow)"
      ]
     },
     "execution_count": 15,
     "metadata": {},
     "output_type": "execute_result"
    }
   ],
   "source": [
    "bins = np.linspace(-5, 5, 101)\n",
    "hist_forward = Hist(hist.axis.Regular(bins=len(bins)-1, start=bins[0], stop=bins[-1], overflow=True, underflow=True), \n",
    "                                      storage=hist.storage.Weight())\n",
    "hist_central = Hist(hist.axis.Regular(bins=len(bins)-1, start=bins[0], stop=bins[-1], overflow=True, underflow=True), \n",
    "                                      storage=hist.storage.Weight())\n",
    "\n",
    "hist_forward.fill(sample_1500_forward['newGBDT_score'], weight=sample_1500_forward['event_weight'])\n",
    "hist_central.fill(sample_1500_central['newGBDT_score'], weight=sample_1500_central['event_weight'])"
   ]
  },
  {
   "cell_type": "code",
   "execution_count": 16,
   "metadata": {},
   "outputs": [],
   "source": [
    "def normalize_hist(_hist):\n",
    "    if _hist.sum().value != 0:\n",
    "        area = np.sum(_hist.values()) * _hist.axes[0].widths\n",
    "        _normed = _hist / area\n",
    "    else:\n",
    "        _normed = _hist\n",
    "    return _normed"
   ]
  },
  {
   "cell_type": "code",
   "execution_count": 26,
   "metadata": {},
   "outputs": [
    {
     "data": {
      "text/plain": [
       "(([StairsArtists(stairs=<matplotlib.patches.StepPatch object at 0x15500fb381c0>, errorbar=<ErrorbarContainer object of 3 artists>, legend_artist=<ErrorbarContainer object of 3 artists>)],\n",
       "  [StairsArtists(stairs=<matplotlib.patches.StepPatch object at 0x1551a004de50>, errorbar=<ErrorbarContainer object of 3 artists>, legend_artist=<ErrorbarContainer object of 3 artists>)]),\n",
       " RatioErrorbarArtists(line=<matplotlib.lines.Line2D object at 0x154d3835db80>, errorbar=<ErrorbarContainer object of 3 artists>))"
      ]
     },
     "execution_count": 26,
     "metadata": {},
     "output_type": "execute_result"
    },
    {
     "data": {
      "image/png": "[encoded data removed]",
      "text/plain": [
       "<Figure size 640x480 with 2 Axes>"
      ]
     },
     "metadata": {},
     "output_type": "display_data"
    }
   ],
   "source": [
    "normalize_hist(hist_forward).plot_ratio(normalize_hist(hist_central),rp_num_label=\"forward\",rp_denom_label=\"central\")"
   ]
  },
  {
   "cell_type": "code",
   "execution_count": 18,
   "metadata": {},
   "outputs": [
    {
     "data": {
      "text/html": [
       "<html>\n",
       "<div style=\"display:flex; align-items:center;\">\n",
       "<div style=\"width:290px;\">\n",
       "<svg xmlns=\"http://www.w3.org/2000/svg\" viewBox=\"-10 -105 270 120\">\n",
       "<line x1=\"-5\" y1=\"0\" x2=\"255\" y2=\"0\" style=\"fill:none;stroke-width:2;stroke:currentColor\"/>\n",
       "<text text-anchor=\"middle\" x=\"0\" y=\"15\" style=\"fill:currentColor;\">\n",
       "-5\n",
       "</text>\n",
       "<text text-anchor=\"middle\" x=\"250\" y=\"15\" style=\"fill:currentColor;\">\n",
       "5\n",
       "</text>\n",
       "<text text-anchor=\"middle\" x=\"125.0\" y=\"15\" style=\"fill:currentColor;\">\n",
       "Axis 0\n",
       "</text>\n",
       "<polyline points=\"  0,0   0,-30.3 2.5,-30.3 2.5,-36.7   5,-36.7   5,-42.2 7.5,-42.2 7.5,-52.3  10,-52.3  10,-54.5 12.5,-54.5 12.5,-58.8  15,-58.8  15,-61.5 17.5,-61.5 17.5,-63.8  20,-63.8  20,-62.9 22.5,-62.9 22.5,-60.9  25,-60.9  25,-62.6 27.5,-62.6 27.5,-59.7  30,-59.7  30,-59.7 32.5,-59.7 32.5,-60.7  35,-60.7  35,-56.5 37.5,-56.5 37.5,-61.5  40,-61.5  40,-62.8 42.5,-62.8 42.5,-60.1  45,-60.1  45,-64.9 47.5,-64.9 47.5,-72.3  50,-72.3  50,-58.6 52.5,-58.6 52.5,-57.9  55,-57.9  55,-65.4 57.5,-65.4 57.5,-65.2  60,-65.2  60,-65.4 62.5,-65.4 62.5,-74.3  65,-74.3  65,-74.6 67.5,-74.6 67.5,-81.5  70,-81.5  70,-85.4 72.5,-85.4 72.5,-81.8  75,-81.8  75,-85.5 77.5,-85.5 77.5,-95.5  80,-95.5  80,-93 82.5,-93 82.5,-86.5  85,-86.5  85,-91.2 87.5,-91.2 87.5,-100  90,-100  90,-94.7 92.5,-94.7 92.5,-93  95,-93  95,-96.6 97.5,-96.6 97.5,-91.8 100,-91.8 100,-92.7 102.5,-92.7 102.5,-80.9 105,-80.9 105,-74.6 107.5,-74.6 107.5,-68.4 110,-68.4 110,-63.8 112.5,-63.8 112.5,-58.9 115,-58.9 115,-58.3 117.5,-58.3 117.5,-57.7 120,-57.7 120,-52.4 122.5,-52.4 122.5,-48.9 125,-48.9 125,-47.2 127.5,-47.2 127.5,-44.7 130,-44.7 130,-37.6 132.5,-37.6 132.5,-33.2 135,-33.2 135,-29 137.5,-29 137.5,-25.1 140,-25.1 140,-21.9 142.5,-21.9 142.5,-19.5 145,-19.5 145,-15.9 147.5,-15.9 147.5,-14.5 150,-14.5 150,-11.9 152.5,-11.9 152.5,-11.6 155,-11.6 155,-7.84 157.5,-7.84 157.5,-6.52 160,-6.52 160,-4.58 162.5,-4.58 162.5,-3.63 165,-3.63 165,-2.93 167.5,-2.93 167.5,-2.11 170,-2.11 170,-1.54 172.5,-1.54 172.5,-1.03 175,-1.03 175,-0.621 177.5,-0.621 177.5,-0.208 180,-0.208 180,-0.249 182.5,-0.249 182.5,-0.104 185,-0.104 185,-0.0793 187.5,-0.0793 187.5,-0.0622 190,-0.0622 190,-0 192.5,-0 192.5,-0.0115 195,-0.0115 195,-0 197.5,-0 197.5,-0 200,-0 200,-0 202.5,-0 202.5,-0 205,-0 205,-0 207.5,-0 207.5,-0 210,-0 210,-0 212.5,-0 212.5,-0 215,-0 215,-0 217.5,-0 217.5,-0 220,-0 220,-0 222.5,-0 222.5,-0 225,-0 225,-0 227.5,-0 227.5,-0 230,-0 230,-0 232.5,-0 232.5,-0 235,-0 235,-0 237.5,-0 237.5,-0 240,-0 240,-0 242.5,-0 242.5,-0 245,-0 245,-0 247.5,-0 247.5,-0 250,-0 250,0\" style=\"fill:none; stroke:currentColor;\"/>\n",
       "</svg>\n",
       "</div>\n",
       "<div style=\"flex=grow:1;\">\n",
       "Regular(100, -5, 5, label='Axis 0')<br/>\n",
       "<hr style=\"margin-top:.2em; margin-bottom:.2em;\"/>\n",
       "Weight() Σ=WeightedSum(value=1042.77, variance=10.748) <em>(WeightedSum(value=1058, variance=10.8593) with flow)</em>\n",
       "\n",
       "</div>\n",
       "</div>\n",
       "</html>"
      ],
      "text/plain": [
       "Hist(Regular(100, -5, 5, label='Axis 0'), storage=Weight()) # Sum: WeightedSum(value=1042.77, variance=10.748) (WeightedSum(value=1058, variance=10.8593) with flow)"
      ]
     },
     "execution_count": 18,
     "metadata": {},
     "output_type": "execute_result"
    }
   ],
   "source": [
    "sample_1500_forward_quark = sample_1500_forward.loc[sample_1500_forward['target']==0]\n",
    "sample_1500_central_quark = sample_1500_central.loc[sample_1500_central['target']==0]\n",
    "\n",
    "hist_forward_quark = Hist(hist.axis.Regular(bins=len(bins)-1, start=bins[0], stop=bins[-1], overflow=True, underflow=True), \n",
    "                                      storage=hist.storage.Weight())\n",
    "hist_central_quark = Hist(hist.axis.Regular(bins=len(bins)-1, start=bins[0], stop=bins[-1], overflow=True, underflow=True), \n",
    "                                      storage=hist.storage.Weight())\n",
    "\n",
    "hist_forward_quark.fill(sample_1500_forward_quark['newGBDT_score'], weight=sample_1500_forward_quark['event_weight'])\n",
    "hist_central_quark.fill(sample_1500_central_quark['newGBDT_score'], weight=sample_1500_central_quark['event_weight'])\n"
   ]
  },
  {
   "cell_type": "code",
   "execution_count": 27,
   "metadata": {},
   "outputs": [
    {
     "data": {
      "text/plain": [
       "(([StairsArtists(stairs=<matplotlib.patches.StepPatch object at 0x154d38280910>, errorbar=<ErrorbarContainer object of 3 artists>, legend_artist=<ErrorbarContainer object of 3 artists>)],\n",
       "  [StairsArtists(stairs=<matplotlib.patches.StepPatch object at 0x154d3828e190>, errorbar=<ErrorbarContainer object of 3 artists>, legend_artist=<ErrorbarContainer object of 3 artists>)]),\n",
       " RatioErrorbarArtists(line=<matplotlib.lines.Line2D object at 0x154d382805e0>, errorbar=<ErrorbarContainer object of 3 artists>))"
      ]
     },
     "execution_count": 27,
     "metadata": {},
     "output_type": "execute_result"
    },
    {
     "data": {
      "image/png": "[encoded data removed]",
      "text/plain": [
       "<Figure size 640x480 with 2 Axes>"
      ]
     },
     "metadata": {},
     "output_type": "display_data"
    }
   ],
   "source": [
    "normalize_hist(hist_forward_quark).plot_ratio(normalize_hist(hist_central_quark), \n",
    "rp_num_label=\"forward quark\",rp_denom_label=\"central quark\")"
   ]
  },
  {
   "cell_type": "code",
   "execution_count": 20,
   "metadata": {},
   "outputs": [
    {
     "data": {
      "text/plain": [
       "['inspect_best/sample_test.pkl']"
      ]
     },
     "execution_count": 20,
     "metadata": {},
     "output_type": "execute_result"
    }
   ],
   "source": [
    "joblib.dump(sample_test, output_folder/ 'sample_test.pkl')"
   ]
  }
 ],
 "metadata": {
  "kernelspec": {
   "display_name": "ml",
   "language": "python",
   "name": "python3"
  },
  "language_info": {
   "codemirror_mode": {
    "name": "ipython",
    "version": 3
   },
   "file_extension": ".py",
   "mimetype": "text/x-python",
   "name": "python",
   "nbconvert_exporter": "python",
   "pygments_lexer": "ipython3",
   "version": "3.9.15"
  },
  "orig_nbformat": 4,
  "vscode": {
   "interpreter": {
    "hash": "14e3b66b9136298b1438aa954b24fb6042eb4a7b64fe2e32b506f4a92d36ab42"
   }
  }
 },
 "nbformat": 4,
 "nbformat_minor": 2
}
