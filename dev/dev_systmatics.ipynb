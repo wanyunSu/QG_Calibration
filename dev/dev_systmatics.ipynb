{
 "cells": [
  {
   "cell_type": "code",
   "execution_count": 20,
   "metadata": {},
   "outputs": [],
   "source": [
    "import joblib\n",
    "import numpy as np \n",
    "from pathlib import Path\n",
    "import uproot \n",
    "import awkward as ak"
   ]
  },
  {
   "cell_type": "code",
   "execution_count": 2,
   "metadata": {},
   "outputs": [],
   "source": [
    "pythia_file_path='/global/cfs/projectdirs/atlas/hrzhao/qgcal/Samples_Dec11/pythia/pythiaA/user.wasu.Dec11a.mc16_13TeV.364709.Pythia8EvtGen_A14NNPDF23LO_jetjet_JZ9WithSW_minitrees.root/user.wasu.31564717._000001.minitrees.root'\n",
    "pythia_file_path= Path(pythia_file_path)\n",
    "pythia_root = uproot.open(pythia_file_path)"
   ]
  },
  {
   "cell_type": "code",
   "execution_count": 3,
   "metadata": {},
   "outputs": [],
   "source": [
    "nominal = pythia_root['nominal;1'].arrays()"
   ]
  },
  {
   "cell_type": "code",
   "execution_count": 4,
   "metadata": {},
   "outputs": [
    {
     "data": {
      "text/plain": [
       "['run',\n",
       " 'event',\n",
       " 'last',\n",
       " 'year',\n",
       " 'mconly_weight',\n",
       " 'syst_weight',\n",
       " 'pu_weight',\n",
       " 'jet_fire',\n",
       " 'mcEventWeightsString',\n",
       " 'mcEventWeightsVector',\n",
       " 'weight_pileup_up',\n",
       " 'weight_pileup_down',\n",
       " 'pdf_weight',\n",
       " 'jet_pt',\n",
       " 'jet_eta',\n",
       " 'jet_phi',\n",
       " 'jet_PartonTruthLabelID',\n",
       " 'jet_weight',\n",
       " 'jet_nTracks_sys_eff',\n",
       " 'jet_nTracks_sys_fake',\n",
       " 'jet_truthPt',\n",
       " 'jet_truthEta',\n",
       " 'jet_truthPhi',\n",
       " 'jet_nTracks',\n",
       " 'jet_trackWidth',\n",
       " 'jet_trackC1',\n",
       " 'jet_trackBDT']"
      ]
     },
     "execution_count": 4,
     "metadata": {},
     "output_type": "execute_result"
    }
   ],
   "source": [
    "nominal.fields"
   ]
  },
  {
   "cell_type": "code",
   "execution_count": 5,
   "metadata": {},
   "outputs": [
    {
     "data": {
      "text/plain": [
       "<Array [9.15e-11, 5.53e-11, ... 9.55e-11] type='27 * float32'>"
      ]
     },
     "execution_count": 5,
     "metadata": {},
     "output_type": "execute_result"
    }
   ],
   "source": [
    "nominal['mcEventWeightsVector'][0]"
   ]
  },
  {
   "cell_type": "code",
   "execution_count": 52,
   "metadata": {},
   "outputs": [
    {
     "data": {
      "text/plain": [
       "<Array [5.57e-11, 2.68e-11, ... 5.67e-11] type='27 * float32'>"
      ]
     },
     "execution_count": 52,
     "metadata": {},
     "output_type": "execute_result"
    }
   ],
   "source": [
    "nominal['mcEventWeightsVector'][-2]"
   ]
  },
  {
   "cell_type": "code",
   "execution_count": 39,
   "metadata": {},
   "outputs": [
    {
     "name": "stdout",
     "output_type": "stream",
     "text": [
      "nominal\n"
     ]
    }
   ],
   "source": [
    "print(nominal['mcEventWeightsString'][0][0])"
   ]
  },
  {
   "cell_type": "code",
   "execution_count": 41,
   "metadata": {},
   "outputs": [
    {
     "name": "stdout",
     "output_type": "stream",
     "text": [
      "Var3cDown\n"
     ]
    }
   ],
   "source": [
    "print(nominal['mcEventWeightsString'][0][2])"
   ]
  },
  {
   "cell_type": "code",
   "execution_count": 49,
   "metadata": {},
   "outputs": [
    {
     "data": {
      "text/plain": [
       "<Array [0.604, 3.91, 0.461, ... 0.481, 0.1] type='94089 * float32'>"
      ]
     },
     "execution_count": 49,
     "metadata": {},
     "output_type": "execute_result"
    }
   ],
   "source": [
    "nominal['mcEventWeightsVector'][:,1] / nominal['mconly_weight']"
   ]
  },
  {
   "cell_type": "code",
   "execution_count": 50,
   "metadata": {},
   "outputs": [
    {
     "data": {
      "text/plain": [
       "<Array [0.832, 2.62, 0.649, ... 0.667, 0.264] type='94089 * float32'>"
      ]
     },
     "execution_count": 50,
     "metadata": {},
     "output_type": "execute_result"
    }
   ],
   "source": [
    "nominal['mcEventWeightsVector'][:,5] / nominal['mconly_weight']"
   ]
  },
  {
   "cell_type": "code",
   "execution_count": 36,
   "metadata": {},
   "outputs": [
    {
     "data": {
      "text/plain": [
       "<Array [1, 1, 1, 1, 1, 1, ... 1, 1, 1, 1, 1, 1] type='94089 * float32'>"
      ]
     },
     "execution_count": 36,
     "metadata": {},
     "output_type": "execute_result"
    }
   ],
   "source": [
    "nominal['mcEventWeightsVector'][:,2] / nominal['mconly_weight'][:]"
   ]
  },
  {
   "cell_type": "code",
   "execution_count": 44,
   "metadata": {},
   "outputs": [
    {
     "name": "stdout",
     "output_type": "stream",
     "text": [
      "0\n",
      "2\n",
      "15\n"
     ]
    }
   ],
   "source": [
    "for i in range(27):\n",
    "    ratio = nominal['mcEventWeightsVector'][:,i] / nominal['mconly_weight'][:]\n",
    "    if np.allclose(ratio, ak.ones_like(ratio)):\n",
    "        print(i)\n"
   ]
  },
  {
   "cell_type": "code",
   "execution_count": 47,
   "metadata": {},
   "outputs": [
    {
     "name": "stdout",
     "output_type": "stream",
     "text": [
      "nominal\n",
      "Var3cUp\n",
      "Var3cDown\n",
      "isr:muRfac=2.0_fsr:muRfac=2.0\n",
      "isr:muRfac=2.0_fsr:muRfac=1.0\n",
      "isr:muRfac=2.0_fsr:muRfac=0.5\n",
      "isr:muRfac=1.0_fsr:muRfac=2.0\n",
      "isr:muRfac=1.0_fsr:muRfac=0.5\n",
      "isr:muRfac=0.5_fsr:muRfac=2.0\n",
      "isr:muRfac=0.5_fsr:muRfac=1.0\n",
      "isr:muRfac=0.5_fsr:muRfac=0.5\n",
      "isr:muRfac=1.75_fsr:muRfac=1.0\n",
      "isr:muRfac=1.5_fsr:muRfac=1.0\n",
      "isr:muRfac=1.25_fsr:muRfac=1.0\n",
      "isr:muRfac=0.625_fsr:muRfac=1.0\n",
      "isr:muRfac=0.75_fsr:muRfac=1.0\n",
      "isr:muRfac=0.875_fsr:muRfac=1.0\n",
      "isr:muRfac=1.0_fsr:muRfac=1.75\n",
      "isr:muRfac=1.0_fsr:muRfac=1.5\n",
      "isr:muRfac=1.0_fsr:muRfac=1.25\n",
      "isr:muRfac=1.0_fsr:muRfac=0.625\n",
      "isr:muRfac=1.0_fsr:muRfac=0.75\n",
      "isr:muRfac=1.0_fsr:muRfac=0.875\n",
      "hardHi\n",
      "hardLo\n",
      "isr:PDF:plus\n",
      "isr:PDF:minus\n"
     ]
    }
   ],
   "source": [
    "for i in range(27):\n",
    "    print(nominal['mcEventWeightsString'][0][i])"
   ]
  },
  {
   "cell_type": "code",
   "execution_count": 24,
   "metadata": {},
   "outputs": [
    {
     "data": {
      "text/plain": [
       "<Array [9.15e-11, 7.71e-11, ... 6.37e-11] type='94089 * float32'>"
      ]
     },
     "execution_count": 24,
     "metadata": {},
     "output_type": "execute_result"
    }
   ],
   "source": [
    "nominal['mconly_weight'][:]"
   ]
  },
  {
   "cell_type": "code",
   "execution_count": 15,
   "metadata": {},
   "outputs": [
    {
     "data": {
      "text/plain": [
       "9.153819369167593e-11"
      ]
     },
     "execution_count": 15,
     "metadata": {},
     "output_type": "execute_result"
    }
   ],
   "source": [
    "nominal['mconly_weight'][0]"
   ]
  },
  {
   "cell_type": "code",
   "execution_count": 17,
   "metadata": {},
   "outputs": [
    {
     "data": {
      "text/plain": [
       "<Array [1, 0.887, 0.984, ... 1.08, 0.635, 1.04] type='101 * float64'>"
      ]
     },
     "execution_count": 17,
     "metadata": {},
     "output_type": "execute_result"
    }
   ],
   "source": [
    "nominal['pdf_weight'][0]"
   ]
  },
  {
   "cell_type": "code",
   "execution_count": 6,
   "metadata": {},
   "outputs": [],
   "source": [
    "a = list('s')"
   ]
  },
  {
   "cell_type": "code",
   "execution_count": 9,
   "metadata": {},
   "outputs": [],
   "source": [
    "a.append(['b', 'v'])"
   ]
  },
  {
   "cell_type": "code",
   "execution_count": 13,
   "metadata": {},
   "outputs": [
    {
     "data": {
      "text/plain": [
       "['s', ['b', 'v'], 'f', 'd']"
      ]
     },
     "execution_count": 13,
     "metadata": {},
     "output_type": "execute_result"
    }
   ],
   "source": [
    "a + ['f', 'd']"
   ]
  },
  {
   "cell_type": "code",
   "execution_count": null,
   "metadata": {},
   "outputs": [],
   "source": []
  }
 ],
 "metadata": {
  "kernelspec": {
   "display_name": "ml",
   "language": "python",
   "name": "python3"
  },
  "language_info": {
   "codemirror_mode": {
    "name": "ipython",
    "version": 3
   },
   "file_extension": ".py",
   "mimetype": "text/x-python",
   "name": "python",
   "nbconvert_exporter": "python",
   "pygments_lexer": "ipython3",
   "version": "3.9.15"
  },
  "orig_nbformat": 4
 },
 "nbformat": 4,
 "nbformat_minor": 2
}
