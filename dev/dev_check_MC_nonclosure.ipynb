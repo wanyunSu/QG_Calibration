{
 "cells": [
  {
   "cell_type": "code",
   "execution_count": 20,
   "metadata": {},
   "outputs": [],
   "source": [
    "import joblib\n",
    "from uncertainties import ufloat, unumpy\n",
    "import numpy as np "
   ]
  },
  {
   "cell_type": "code",
   "execution_count": 10,
   "metadata": {},
   "outputs": [],
   "source": [
    "extraction_results_path = '/global/cfs/projectdirs/atlas/hrzhao/HEP_Repo/QG_Calibration/NewWorkflow/trained_lightGBM_new/MC_nonclosure/plots/ADE/Extraction_Results/jet_nTracks_Extraction_Results.pkl'\n",
    "WP_cut_path = '/global/cfs/projectdirs/atlas/hrzhao/HEP_Repo/QG_Calibration/NewWorkflow/trained_lightGBM_new/nominal/plots/ADE/WP_cuts_pkls/jet_nTracks_quark_reweighting_weights/WP_cuts.pkl'"
   ]
  },
  {
   "cell_type": "code",
   "execution_count": 11,
   "metadata": {},
   "outputs": [],
   "source": [
    "extraction_results = joblib.load(extraction_results_path)\n",
    "WP_cut = joblib.load(WP_cut_path)"
   ]
  },
  {
   "cell_type": "code",
   "execution_count": 9,
   "metadata": {},
   "outputs": [
    {
     "data": {
      "text/plain": [
       "dict_keys(['Forward_MC', 'Central_MC', 'Forward_Data', 'Central_Data', 'Quark', 'Gluon', 'Forward_Quark', 'Central_Quark', 'Forward_Gluon', 'Central_Gluon', 'f', 'f_inv', 'p_Quark', 'p_Gluon', 'p_Forward_Quark', 'p_Central_Quark', 'p_Forward_Gluon', 'p_Central_Gluon', 'extract_p_Quark_MC', 'extract_p_Gluon_MC', 'extract_p_Quark_Data', 'extract_p_Gluon_Data'])"
      ]
     },
     "execution_count": 9,
     "metadata": {},
     "output_type": "execute_result"
    }
   ],
   "source": [
    "extraction_results['jet_nTracks'][500].keys()"
   ]
  },
  {
   "cell_type": "code",
   "execution_count": 17,
   "metadata": {},
   "outputs": [],
   "source": [
    "idx = WP_cut['jet_nTracks'][0.5][500]['idx']"
   ]
  },
  {
   "cell_type": "code",
   "execution_count": 23,
   "metadata": {},
   "outputs": [],
   "source": [
    "truth_quark_eff = np.sum(unumpy.nominal_values(extraction_results['jet_nTracks'][500]['p_Quark'][:idx]))"
   ]
  },
  {
   "cell_type": "code",
   "execution_count": 24,
   "metadata": {},
   "outputs": [],
   "source": [
    "extract_quark_eff = np.sum(unumpy.nominal_values(extraction_results['jet_nTracks'][500]['extract_p_Quark_Data'][:idx]))"
   ]
  },
  {
   "cell_type": "code",
   "execution_count": 25,
   "metadata": {},
   "outputs": [
    {
     "data": {
      "text/plain": [
       "0.8115117510967381"
      ]
     },
     "execution_count": 25,
     "metadata": {},
     "output_type": "execute_result"
    }
   ],
   "source": [
    "extract_quark_eff / truth_quark_eff"
   ]
  },
  {
   "cell_type": "code",
   "execution_count": 26,
   "metadata": {},
   "outputs": [
    {
     "data": {
      "text/plain": [
       "0.536570816214476"
      ]
     },
     "execution_count": 26,
     "metadata": {},
     "output_type": "execute_result"
    }
   ],
   "source": [
    "truth_quark_eff"
   ]
  },
  {
   "cell_type": "code",
   "execution_count": 27,
   "metadata": {},
   "outputs": [
    {
     "data": {
      "text/plain": [
       "0.43543352265361546"
      ]
     },
     "execution_count": 27,
     "metadata": {},
     "output_type": "execute_result"
    }
   ],
   "source": [
    "extract_quark_eff"
   ]
  },
  {
   "cell_type": "code",
   "execution_count": 47,
   "metadata": {},
   "outputs": [],
   "source": [
    "SFs = joblib.load('/global/cfs/projectdirs/atlas/hrzhao/HEP_Repo/QG_Calibration/NewWorkflow/trained_lightGBM_new/MC_nonclosure/plots/ADE/SFs_pkls/jet_nTracks_quark_reweighting_weights/SFs.pkl')"
   ]
  },
  {
   "cell_type": "code",
   "execution_count": 48,
   "metadata": {},
   "outputs": [
    {
     "data": {
      "text/plain": [
       "array([1.0382560657068205+/-0.0028945731109285915,\n",
       "       1.0541676960576938+/-0.0023289907367297037,\n",
       "       1.0536470242206428+/-0.004070374841500009,\n",
       "       1.0355061727371722+/-0.007557897886130199,\n",
       "       1.019274931952252+/-0.013413500661604249,\n",
       "       1.0076719387498998+/-0.027995198007278767], dtype=object)"
      ]
     },
     "execution_count": 48,
     "metadata": {},
     "output_type": "execute_result"
    }
   ],
   "source": [
    "SFs['jet_nTracks'][0.5]['Quark']"
   ]
  },
  {
   "cell_type": "code",
   "execution_count": null,
   "metadata": {},
   "outputs": [],
   "source": []
  }
 ],
 "metadata": {
  "kernelspec": {
   "display_name": "ml",
   "language": "python",
   "name": "python3"
  },
  "language_info": {
   "codemirror_mode": {
    "name": "ipython",
    "version": 3
   },
   "file_extension": ".py",
   "mimetype": "text/x-python",
   "name": "python",
   "nbconvert_exporter": "python",
   "pygments_lexer": "ipython3",
   "version": "3.9.15"
  },
  "orig_nbformat": 4
 },
 "nbformat": 4,
 "nbformat_minor": 2
}
