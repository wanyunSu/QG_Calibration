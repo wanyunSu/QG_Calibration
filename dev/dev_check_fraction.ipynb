{
 "cells": [
  {
   "cell_type": "code",
   "execution_count": 1,
   "metadata": {},
   "outputs": [],
   "source": [
    "import joblib\n",
    "import numpy as np\n",
    "from uncertainties import ufloat, unumpy\n",
    "import hist \n",
    "from hist import Hist\n",
    "import logging\n",
    "import atlas_mpl_style as ampl\n",
    "ampl.use_atlas_style(usetex=False)\n"
   ]
  },
  {
   "cell_type": "code",
   "execution_count": 2,
   "metadata": {},
   "outputs": [],
   "source": [
    "HistBins = {\n",
    "    'jet_pt' : np.linspace(500, 2000, 61),\n",
    "    'jet_eta' : np.linspace(-2.5, 2.5, 51), \n",
    "    'jet_nTracks' : np.linspace(0, 60, 61),\n",
    "    'jet_trackWidth' : np.linspace(0, 0.4, 61),\n",
    "    'jet_trackC1' : np.linspace(0, 0.4, 61),\n",
    "    'jet_trackBDT' : np.linspace(-1.0, 1.0, 101),\n",
    "    'GBDT_newScore' : np.linspace(-5.0, 5.0, 101),\n",
    "}\n",
    "\n",
    "label_pt_bin = [500, 600, 800, 1000, 1200, 1500, 2000]\n"
   ]
  },
  {
   "cell_type": "code",
   "execution_count": 3,
   "metadata": {},
   "outputs": [],
   "source": [
    "none_Extraction_Results_path = '/global/cfs/projectdirs/atlas/hrzhao/HEP_Repo/QG_Calibration/NewWorkflow/trained_lightGBM_new/nominal/plots/ADE/Extraction_Results/none_Extraction_Results.pkl'\n",
    "none_Extraction_Results = joblib.load(none_Extraction_Results_path)"
   ]
  },
  {
   "cell_type": "code",
   "execution_count": 4,
   "metadata": {},
   "outputs": [],
   "source": [
    "jet_nTracks_Extraction_Results_path = '/global/cfs/projectdirs/atlas/hrzhao/HEP_Repo/QG_Calibration/NewWorkflow/trained_lightGBM_new/nominal/plots/ADE/Extraction_Results/jet_nTracks_Extraction_Results.pkl'\n",
    "jet_nTracks_Extraction_Results = joblib.load(jet_nTracks_Extraction_Results_path)"
   ]
  },
  {
   "cell_type": "code",
   "execution_count": 5,
   "metadata": {},
   "outputs": [
    {
     "data": {
      "text/plain": [
       "array([[0.56874179, 0.43125821],\n",
       "       [0.43459836, 0.56540164]])"
      ]
     },
     "execution_count": 5,
     "metadata": {},
     "output_type": "execute_result"
    }
   ],
   "source": [
    "none_Extraction_Results['jet_nTracks'][500]['f']"
   ]
  },
  {
   "cell_type": "code",
   "execution_count": 6,
   "metadata": {},
   "outputs": [
    {
     "data": {
      "text/plain": [
       "array([[0.56874179, 0.43125821],\n",
       "       [0.40309239, 0.59690761]])"
      ]
     },
     "execution_count": 6,
     "metadata": {},
     "output_type": "execute_result"
    }
   ],
   "source": [
    "jet_nTracks_Extraction_Results['jet_nTracks'][500]['f']"
   ]
  },
  {
   "attachments": {},
   "cell_type": "markdown",
   "metadata": {},
   "source": [
    "## Check Central"
   ]
  },
  {
   "cell_type": "code",
   "execution_count": 10,
   "metadata": {},
   "outputs": [
    {
     "data": {
      "text/plain": [
       "1.3108277953014837+/-0.022583009068549785"
      ]
     },
     "execution_count": 10,
     "metadata": {},
     "output_type": "execute_result"
    }
   ],
   "source": [
    "none_Extraction_Results['jet_nTracks'][500]['Central_Quark'][2] / jet_nTracks_Extraction_Results['jet_nTracks'][500]['Central_Quark'][2]"
   ]
  },
  {
   "cell_type": "code",
   "execution_count": 11,
   "metadata": {},
   "outputs": [
    {
     "data": {
      "text/plain": [
       "1.3108277953014849+/-0.06009871702431998"
      ]
     },
     "execution_count": 11,
     "metadata": {},
     "output_type": "execute_result"
    }
   ],
   "source": [
    "none_Extraction_Results['jet_nTracks'][500]['Central_Gluon'][2] / jet_nTracks_Extraction_Results['jet_nTracks'][500]['Central_Gluon'][2]"
   ]
  },
  {
   "cell_type": "code",
   "execution_count": 14,
   "metadata": {},
   "outputs": [],
   "source": [
    "def safe_array_divide_unumpy(numerator, denominator):\n",
    "    if 0 in unumpy.nominal_values(denominator):\n",
    "        _denominator_nominal_values = unumpy.nominal_values(denominator)\n",
    "        _denominator_std_devs = unumpy.std_devs(denominator)\n",
    "        zero_idx = np.where(_denominator_nominal_values==0)[0]\n",
    "        _denominator_nominal_values[zero_idx] = np.inf\n",
    "        _denominator_std_devs[zero_idx] = 0 \n",
    "        _denominator = unumpy.uarray(_denominator_nominal_values, _denominator_std_devs)\n",
    "\n",
    "        ratio = np.true_divide(numerator, _denominator) \n",
    "        # raise Warning(f\"0 exists in the denominator for unumpy, check it!\")\n",
    "    else:\n",
    "        ratio = np.true_divide(numerator, denominator)        \n",
    "    return ratio"
   ]
  },
  {
   "cell_type": "code",
   "execution_count": 23,
   "metadata": {},
   "outputs": [
    {
     "data": {
      "text/plain": [
       "True"
      ]
     },
     "execution_count": 23,
     "metadata": {},
     "output_type": "execute_result"
    }
   ],
   "source": [
    "np.allclose(unumpy.nominal_values(none_Extraction_Results['jet_nTracks'][500]['Central_MC']), \n",
    "            unumpy.nominal_values(none_Extraction_Results['jet_nTracks'][500]['Central_Quark'] + none_Extraction_Results['jet_nTracks'][500]['Central_Gluon']))"
   ]
  },
  {
   "cell_type": "code",
   "execution_count": 25,
   "metadata": {},
   "outputs": [
    {
     "data": {
      "text/plain": [
       "0.4345983608980648"
      ]
     },
     "execution_count": 25,
     "metadata": {},
     "output_type": "execute_result"
    }
   ],
   "source": [
    "unumpy.nominal_values(none_Extraction_Results['jet_nTracks'][500]['Central_Quark']).sum() / unumpy.nominal_values(none_Extraction_Results['jet_nTracks'][500]['Central_MC']).sum()"
   ]
  },
  {
   "cell_type": "code",
   "execution_count": 26,
   "metadata": {},
   "outputs": [
    {
     "data": {
      "text/plain": [
       "True"
      ]
     },
     "execution_count": 26,
     "metadata": {},
     "output_type": "execute_result"
    }
   ],
   "source": [
    "np.allclose(unumpy.nominal_values(jet_nTracks_Extraction_Results['jet_nTracks'][500]['Central_MC']), \n",
    "            unumpy.nominal_values(jet_nTracks_Extraction_Results['jet_nTracks'][500]['Central_Quark'] + jet_nTracks_Extraction_Results['jet_nTracks'][500]['Central_Gluon']))"
   ]
  },
  {
   "cell_type": "code",
   "execution_count": 27,
   "metadata": {},
   "outputs": [
    {
     "data": {
      "text/plain": [
       "0.40309238517345186"
      ]
     },
     "execution_count": 27,
     "metadata": {},
     "output_type": "execute_result"
    }
   ],
   "source": [
    "unumpy.nominal_values(jet_nTracks_Extraction_Results['jet_nTracks'][500]['Central_Quark']).sum() / unumpy.nominal_values(jet_nTracks_Extraction_Results['jet_nTracks'][500]['Central_MC']).sum()"
   ]
  },
  {
   "cell_type": "markdown",
   "metadata": {},
   "source": []
  },
  {
   "cell_type": "code",
   "execution_count": null,
   "metadata": {},
   "outputs": [],
   "source": []
  }
 ],
 "metadata": {
  "kernelspec": {
   "display_name": "ml",
   "language": "python",
   "name": "python3"
  },
  "language_info": {
   "codemirror_mode": {
    "name": "ipython",
    "version": 3
   },
   "file_extension": ".py",
   "mimetype": "text/x-python",
   "name": "python",
   "nbconvert_exporter": "python",
   "pygments_lexer": "ipython3",
   "version": "3.9.15"
  },
  "orig_nbformat": 4
 },
 "nbformat": 4,
 "nbformat_minor": 2
}
