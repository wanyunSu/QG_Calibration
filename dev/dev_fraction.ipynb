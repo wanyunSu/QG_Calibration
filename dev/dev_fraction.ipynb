{
 "cells": [
  {
   "cell_type": "code",
   "execution_count": 6,
   "metadata": {},
   "outputs": [],
   "source": [
    "import joblib\n",
    "import numpy as np\n",
    "from uncertainties import ufloat, unumpy\n",
    "import hist \n",
    "from hist import Hist\n",
    "import logging\n",
    "import atlas_mpl_style as ampl\n",
    "ampl.use_atlas_style(usetex=False)\n"
   ]
  },
  {
   "cell_type": "code",
   "execution_count": 13,
   "metadata": {},
   "outputs": [],
   "source": [
    "HistBins = {\n",
    "    'jet_pt' : np.linspace(500, 2000, 61),\n",
    "    'jet_eta' : np.linspace(-2.5, 2.5, 51), \n",
    "    'jet_nTracks' : np.linspace(0, 60, 61),\n",
    "    'jet_trackWidth' : np.linspace(0, 0.4, 61),\n",
    "    'jet_trackC1' : np.linspace(0, 0.4, 61),\n",
    "    'jet_trackBDT' : np.linspace(-1.0, 1.0, 101),\n",
    "    'GBDT_newScore' : np.linspace(-5.0, 5.0, 101),\n",
    "}\n",
    "\n",
    "label_pt_bin = [500, 600, 800, 1000, 1200, 1500, 2000]\n"
   ]
  },
  {
   "cell_type": "code",
   "execution_count": 3,
   "metadata": {},
   "outputs": [],
   "source": [
    "Extraction_Results_path = '/global/cfs/projectdirs/atlas/hrzhao/HEP_Repo/QG_Calibration/NewWorkflow/trained_lightGBM_new/nominal/plots/ADE/Extraction_Results/none_Extraction_Results.pkl'\n",
    "\n",
    "Extraction_Results = joblib.load(Extraction_Results_path)"
   ]
  },
  {
   "cell_type": "code",
   "execution_count": 10,
   "metadata": {},
   "outputs": [
    {
     "data": {
      "text/plain": [
       "array([[0.56871799, 0.43128201],\n",
       "       [0.43457923, 0.56542077]])"
      ]
     },
     "execution_count": 10,
     "metadata": {},
     "output_type": "execute_result"
    }
   ],
   "source": [
    "Extraction_Results['jet_pt'][500]['f']"
   ]
  },
  {
   "cell_type": "code",
   "execution_count": 12,
   "metadata": {},
   "outputs": [
    {
     "data": {
      "text/plain": [
       "array([[0.56871799, 0.43128201],\n",
       "       [0.43457923, 0.56542077]])"
      ]
     },
     "execution_count": 12,
     "metadata": {},
     "output_type": "execute_result"
    }
   ],
   "source": [
    "Extraction_Results['jet_eta'][500]['f']"
   ]
  },
  {
   "cell_type": "code",
   "execution_count": 15,
   "metadata": {},
   "outputs": [],
   "source": [
    "fraction_pt_slices = []\n",
    "for pt in label_pt_bin[:-1]:\n",
    "    fraction_pt_slices.append(Extraction_Results['jet_pt'][pt]['f'])"
   ]
  },
  {
   "cell_type": "code",
   "execution_count": 16,
   "metadata": {},
   "outputs": [],
   "source": [
    "fraction_pt_slices = np.array(fraction_pt_slices)"
   ]
  },
  {
   "cell_type": "code",
   "execution_count": 17,
   "metadata": {},
   "outputs": [
    {
     "data": {
      "text/plain": [
       "(6, 2, 2)"
      ]
     },
     "execution_count": 17,
     "metadata": {},
     "output_type": "execute_result"
    }
   ],
   "source": [
    "fraction_pt_slices.shape"
   ]
  },
  {
   "cell_type": "code",
   "execution_count": 20,
   "metadata": {},
   "outputs": [
    {
     "data": {
      "text/plain": [
       "array([[0.56871799, 0.43128201],\n",
       "       [0.43457923, 0.56542077]])"
      ]
     },
     "execution_count": 20,
     "metadata": {},
     "output_type": "execute_result"
    }
   ],
   "source": [
    "fraction_pt_slices[0]"
   ]
  },
  {
   "cell_type": "code",
   "execution_count": 24,
   "metadata": {},
   "outputs": [],
   "source": [
    "fractions = fraction_pt_slices.reshape((6, 4)).swapaxes(0,1)"
   ]
  },
  {
   "cell_type": "code",
   "execution_count": 25,
   "metadata": {},
   "outputs": [],
   "source": [
    "frac_Forward_Quark = fractions[0, :]\n",
    "frac_Forward_Gluon = fractions[1, :]\n",
    "frac_Central_Quark = fractions[2, :]\n",
    "frac_Central_Gluon = fractions[3, :]"
   ]
  },
  {
   "cell_type": "code",
   "execution_count": 26,
   "metadata": {},
   "outputs": [
    {
     "data": {
      "text/plain": [
       "array([0.56871799, 0.61624311, 0.65938106, 0.6940213 , 0.72727227,\n",
       "       0.77213681])"
      ]
     },
     "execution_count": 26,
     "metadata": {},
     "output_type": "execute_result"
    }
   ],
   "source": [
    "frac_Forward_Quark"
   ]
  },
  {
   "cell_type": "code",
   "execution_count": 39,
   "metadata": {},
   "outputs": [
    {
     "data": {
      "text/plain": [
       "Text(0, 0.5, 'Fraction')"
      ]
     },
     "execution_count": 39,
     "metadata": {},
     "output_type": "execute_result"
    },
    {
     "data": {
      "image/png": "[encoded data removed]",
      "text/plain": [
       "<Figure size 799.992x599.976 with 1 Axes>"
      ]
     },
     "metadata": {},
     "output_type": "display_data"
    }
   ],
   "source": [
    "from matplotlib import pyplot as plt\n",
    "fig, ax = plt.subplots()\n",
    "bin_edges = label_pt_bin\n",
    "ax.stairs(frac_Forward_Quark, bin_edges, label=r\"$f_{Forward, Quark}$\", color=\"purple\", baseline=None, linewidth = 2)\n",
    "ax.stairs(frac_Forward_Gluon, bin_edges, label=r\"$f_{Forward, Gluon}$\", color=\"red\", baseline=None, linewidth = 2)\n",
    "ax.stairs(frac_Central_Quark, bin_edges, label=r\"$f_{Central, Quark}$\", color=\"blue\", baseline=None, linewidth = 2)\n",
    "ax.stairs(frac_Central_Gluon, bin_edges, label=r\"$f_{Central, Gluon}$\", color=\"green\", baseline=None, linewidth = 2)\n",
    "ax.legend()\n",
    "\n",
    "ax.hlines(y=0.5, xmin=bin_edges[0], xmax=bin_edges[-1], linestyles='dashed', color=\"black\")\n",
    "ax.set_xlim(bin_edges[0], bin_edges[-1])\n",
    "ax.set_xlabel('Jet $p_{\\mathrm{T}}$ [GeV]')\n",
    "ax.set_ylabel('Fraction') \n",
    "# ampl.draw_atlas_label(0.1, 0.9, ax=ax, energy=\"13 TeV\", simulation=True)"
   ]
  },
  {
   "cell_type": "code",
   "execution_count": 29,
   "metadata": {},
   "outputs": [
    {
     "data": {
      "text/plain": [
       "array([ 500.,  525.,  550.,  575.,  600.,  625.,  650.,  675.,  700.,\n",
       "        725.,  750.,  775.,  800.,  825.,  850.,  875.,  900.,  925.,\n",
       "        950.,  975., 1000., 1025., 1050., 1075., 1100., 1125., 1150.,\n",
       "       1175., 1200., 1225., 1250., 1275., 1300., 1325., 1350., 1375.,\n",
       "       1400., 1425., 1450., 1475., 1500., 1525., 1550., 1575., 1600.,\n",
       "       1625., 1650., 1675., 1700., 1725., 1750., 1775., 1800., 1825.,\n",
       "       1850., 1875., 1900., 1925., 1950., 1975., 2000.])"
      ]
     },
     "execution_count": 29,
     "metadata": {},
     "output_type": "execute_result"
    }
   ],
   "source": [
    "HistBins['jet_pt']"
   ]
  },
  {
   "cell_type": "code",
   "execution_count": null,
   "metadata": {},
   "outputs": [],
   "source": []
  }
 ],
 "metadata": {
  "kernelspec": {
   "display_name": "ml",
   "language": "python",
   "name": "python3"
  },
  "language_info": {
   "codemirror_mode": {
    "name": "ipython",
    "version": 3
   },
   "file_extension": ".py",
   "mimetype": "text/x-python",
   "name": "python",
   "nbconvert_exporter": "python",
   "pygments_lexer": "ipython3",
   "version": "3.9.15"
  },
  "orig_nbformat": 4
 },
 "nbformat": 4,
 "nbformat_minor": 2
}
