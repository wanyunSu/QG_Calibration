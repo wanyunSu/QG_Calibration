{
 "cells": [
  {
   "cell_type": "code",
   "execution_count": 1,
   "metadata": {},
   "outputs": [],
   "source": [
    "from core.utils import *\n",
    "from core.root2pkl import * \n",
    "from core.pkl2predpkl import *\n",
    "from core.predpkl2hist import * \n",
    "from core.calculate_sf import * \n",
    "\n",
    "from concurrent.futures import ProcessPoolExecutor\n",
    "import functools "
   ]
  },
  {
   "cell_type": "code",
   "execution_count": 2,
   "metadata": {},
   "outputs": [],
   "source": [
    "MC_merged_hist_path = '/global/cfs/projectdirs/atlas/hrzhao/HEP_Repo/QG_Calibration/NewWorkflow/trained_lightGBM_new/nominal/MC_merged_hist.pkl'\n",
    "MC_merged_hist = joblib.load(MC_merged_hist_path)"
   ]
  },
  {
   "cell_type": "code",
   "execution_count": 29,
   "metadata": {},
   "outputs": [],
   "source": [
    "Data_merged_hist_path = '/global/cfs/projectdirs/atlas/hrzhao/HEP_Repo/QG_Calibration/NewWorkflow/trained_lightGBM_new/nominal/Data_merged_hist.pkl'\n",
    "Data_merged_hist = joblib.load(Data_merged_hist_path)"
   ]
  },
  {
   "cell_type": "code",
   "execution_count": 30,
   "metadata": {},
   "outputs": [
    {
     "data": {
      "text/plain": [
       "['event_weight',\n",
       " 'jet_nTracks_quark_reweighting_weights',\n",
       " 'jet_nTracks_gluon_reweighting_weights',\n",
       " 'jet_trackBDT_quark_reweighting_weights',\n",
       " 'jet_trackBDT_gluon_reweighting_weights',\n",
       " 'GBDT_newScore_quark_reweighting_weights',\n",
       " 'GBDT_newScore_gluon_reweighting_weights']"
      ]
     },
     "execution_count": 30,
     "metadata": {},
     "output_type": "execute_result"
    }
   ],
   "source": [
    "[*MC_merged_hist.keys()]"
   ]
  },
  {
   "cell_type": "code",
   "execution_count": 31,
   "metadata": {},
   "outputs": [
    {
     "data": {
      "text/plain": [
       "['event_weight',\n",
       " 'jet_nTracks_quark_reweighting_weights',\n",
       " 'jet_nTracks_gluon_reweighting_weights',\n",
       " 'jet_trackBDT_quark_reweighting_weights',\n",
       " 'jet_trackBDT_gluon_reweighting_weights',\n",
       " 'GBDT_newScore_quark_reweighting_weights',\n",
       " 'GBDT_newScore_gluon_reweighting_weights']"
      ]
     },
     "execution_count": 31,
     "metadata": {},
     "output_type": "execute_result"
    }
   ],
   "source": [
    "[*Data_merged_hist.keys()]"
   ]
  },
  {
   "cell_type": "code",
   "execution_count": 32,
   "metadata": {},
   "outputs": [],
   "source": [
    "plot_dict = {}\n",
    "for key in [*MC_merged_hist.keys()]:\n",
    "    plot_dict[key]={\n",
    "        \"MC\":MC_merged_hist[key],\n",
    "        \"Data\":Data_merged_hist[key],\n",
    "    }"
   ]
  },
  {
   "cell_type": "code",
   "execution_count": 33,
   "metadata": {},
   "outputs": [
    {
     "data": {
      "text/plain": [
       "['event_weight',\n",
       " 'jet_nTracks_quark_reweighting_weights',\n",
       " 'jet_nTracks_gluon_reweighting_weights',\n",
       " 'jet_trackBDT_quark_reweighting_weights',\n",
       " 'jet_trackBDT_gluon_reweighting_weights',\n",
       " 'GBDT_newScore_quark_reweighting_weights',\n",
       " 'GBDT_newScore_gluon_reweighting_weights']"
      ]
     },
     "execution_count": 33,
     "metadata": {},
     "output_type": "execute_result"
    }
   ],
   "source": [
    "[*plot_dict.keys()]"
   ]
  },
  {
   "cell_type": "code",
   "execution_count": 37,
   "metadata": {},
   "outputs": [],
   "source": [
    "plot_tuple_list = [*plot_dict.items()]"
   ]
  },
  {
   "cell_type": "code",
   "execution_count": 40,
   "metadata": {},
   "outputs": [
    {
     "data": {
      "text/plain": [
       "7"
      ]
     },
     "execution_count": 40,
     "metadata": {},
     "output_type": "execute_result"
    }
   ],
   "source": [
    "len(plot_tuple_list)"
   ]
  },
  {
   "cell_type": "code",
   "execution_count": 45,
   "metadata": {},
   "outputs": [
    {
     "data": {
      "text/plain": [
       "'event_weight'"
      ]
     },
     "execution_count": 45,
     "metadata": {},
     "output_type": "execute_result"
    }
   ],
   "source": [
    "plot_tuple_list[0][0]"
   ]
  },
  {
   "cell_type": "code",
   "execution_count": null,
   "metadata": {},
   "outputs": [],
   "source": []
  }
 ],
 "metadata": {
  "kernelspec": {
   "display_name": "ml",
   "language": "python",
   "name": "python3"
  },
  "language_info": {
   "codemirror_mode": {
    "name": "ipython",
    "version": 3
   },
   "file_extension": ".py",
   "mimetype": "text/x-python",
   "name": "python",
   "nbconvert_exporter": "python",
   "pygments_lexer": "ipython3",
   "version": "3.9.15"
  },
  "orig_nbformat": 4,
  "vscode": {
   "interpreter": {
    "hash": "14e3b66b9136298b1438aa954b24fb6042eb4a7b64fe2e32b506f4a92d36ab42"
   }
  }
 },
 "nbformat": 4,
 "nbformat_minor": 2
}
