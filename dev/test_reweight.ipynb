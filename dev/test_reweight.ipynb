{
 "cells": [
  {
   "cell_type": "code",
   "execution_count": 1,
   "metadata": {},
   "outputs": [],
   "source": [
    "import joblib\n",
    "import numpy as np\n",
    "\n",
    "import pandas as pd \n",
    "from matplotlib import pyplot as plt \n",
    "import hist "
   ]
  },
  {
   "cell_type": "code",
   "execution_count": 2,
   "metadata": {},
   "outputs": [],
   "source": [
    "data1516 = joblib.load(\"/global/cfs/projectdirs/atlas/hrzhao/HEP_Repo/QG_Calibration/NewWorkflow/trained_lightGBM_new/nominal/data1516_pred.pkl\")"
   ]
  },
  {
   "cell_type": "code",
   "execution_count": 14,
   "metadata": {},
   "outputs": [],
   "source": [
    "_hist = hist.Hist(hist.axis.Regular(bins=60, start=0, stop=60, name=\"jet_nTracks\"), storage=hist.storage.Weight())"
   ]
  },
  {
   "cell_type": "code",
   "execution_count": 15,
   "metadata": {},
   "outputs": [
    {
     "data": {
      "text/html": [
       "<html>\n",
       "<div style=\"display:flex; align-items:center;\">\n",
       "<div style=\"width:290px;\">\n",
       "<svg xmlns=\"http://www.w3.org/2000/svg\" viewBox=\"-10 -105 270 120\">\n",
       "<line x1=\"-5\" y1=\"0\" x2=\"255\" y2=\"0\" style=\"fill:none;stroke-width:2;stroke:currentColor\"/>\n",
       "<text text-anchor=\"middle\" x=\"0\" y=\"15\" style=\"fill:currentColor;\">\n",
       "0\n",
       "</text>\n",
       "<text text-anchor=\"middle\" x=\"250\" y=\"15\" style=\"fill:currentColor;\">\n",
       "60\n",
       "</text>\n",
       "<text text-anchor=\"middle\" x=\"125.0\" y=\"15\" style=\"fill:currentColor;\">\n",
       "jet_nTracks\n",
       "</text>\n",
       "<polyline points=\"  0,0   0,-1.44 4.16667,-1.44 4.16667,-1.1 8.33333,-1.1 8.33333,-1.63 12.5,-1.63 12.5,-3.67 16.6667,-3.67 16.6667,-8.33 20.8333,-8.33 20.8333,-16.3  25,-16.3  25,-27.6 29.1667,-27.6 29.1667,-41.3 33.3333,-41.3 33.3333,-55.7 37.5,-55.7 37.5,-69.1 41.6667,-69.1 41.6667,-80.3 45.8333,-80.3 45.8333,-88.9  50,-88.9  50,-94.5 54.1667,-94.5 54.1667,-98.1 58.3333,-98.1 58.3333,-99.3 62.5,-99.3 62.5,-100 66.6667,-100 66.6667,-99.2 70.8333,-99.2 70.8333,-97.6  75,-97.6  75,-95.5 79.1667,-95.5 79.1667,-92.5 83.3333,-92.5 83.3333,-88.9 87.5,-88.9 87.5,-84.5 91.6667,-84.5 91.6667,-80 95.8333,-80 95.8333,-75.2 100,-75.2 100,-70 104.167,-70 104.167,-64.6 108.333,-64.6 108.333,-59.2 112.5,-59.2 112.5,-54 116.667,-54 116.667,-48.6 120.833,-48.6 120.833,-43.7 125,-43.7 125,-38.9 129.167,-38.9 129.167,-34.4 133.333,-34.4 133.333,-30.3 137.5,-30.3 137.5,-26.6 141.667,-26.6 141.667,-23 145.833,-23 145.833,-19.9 150,-19.9 150,-17.1 154.167,-17.1 154.167,-14.6 158.333,-14.6 158.333,-12.5 162.5,-12.5 162.5,-10.5 166.667,-10.5 166.667,-8.86 170.833,-8.86 170.833,-7.44 175,-7.44 175,-6.19 179.167,-6.19 179.167,-5.14 183.333,-5.14 183.333,-4.28 187.5,-4.28 187.5,-3.54 191.667,-3.54 191.667,-2.86 195.833,-2.86 195.833,-2.33 200,-2.33 200,-1.9 204.167,-1.9 204.167,-1.53 208.333,-1.53 208.333,-1.25 212.5,-1.25 212.5,-1.02 216.667,-1.02 216.667,-0.808 220.833,-0.808 220.833,-0.643 225,-0.643 225,-0.517 229.167,-0.517 229.167,-0.42 233.333,-0.42 233.333,-0.327 237.5,-0.327 237.5,-0.261 241.667,-0.261 241.667,-0.211 245.833,-0.211 245.833,-0.171 250,-0.171 250,0\" style=\"fill:none; stroke:currentColor;\"/>\n",
       "</svg>\n",
       "</div>\n",
       "<div style=\"flex=grow:1;\">\n",
       "Regular(60, 0, 60, name='jet_nTracks')<br/>\n",
       "<hr style=\"margin-top:.2em; margin-bottom:.2em;\"/>\n",
       "Weight() Σ=WeightedSum(value=1.88869e+07, variance=1.88869e+07) <em>(WeightedSum(value=1.88924e+07, variance=1.88924e+07) with flow)</em>\n",
       "\n",
       "</div>\n",
       "</div>\n",
       "</html>"
      ],
      "text/plain": [
       "Hist(Regular(60, 0, 60, name='jet_nTracks'), storage=Weight()) # Sum: WeightedSum(value=1.88869e+07, variance=1.88869e+07) (WeightedSum(value=1.88924e+07, variance=1.88924e+07) with flow)"
      ]
     },
     "execution_count": 15,
     "metadata": {},
     "output_type": "execute_result"
    }
   ],
   "source": [
    "_hist.fill(data1516[\"jet_nTracks\"], weight=data1516[\"event_weight\"])"
   ]
  },
  {
   "cell_type": "code",
   "execution_count": 16,
   "metadata": {},
   "outputs": [
    {
     "data": {
      "text/html": [
       "<html>\n",
       "<div style=\"display:flex; align-items:center;\">\n",
       "<div style=\"width:290px;\">\n",
       "<svg xmlns=\"http://www.w3.org/2000/svg\" viewBox=\"-10 -105 270 120\">\n",
       "<line x1=\"-5\" y1=\"0\" x2=\"255\" y2=\"0\" style=\"fill:none;stroke-width:2;stroke:currentColor\"/>\n",
       "<text text-anchor=\"middle\" x=\"0\" y=\"15\" style=\"fill:currentColor;\">\n",
       "0\n",
       "</text>\n",
       "<text text-anchor=\"middle\" x=\"250\" y=\"15\" style=\"fill:currentColor;\">\n",
       "60\n",
       "</text>\n",
       "<text text-anchor=\"middle\" x=\"125.0\" y=\"15\" style=\"fill:currentColor;\">\n",
       "jet_nTracks\n",
       "</text>\n",
       "<polyline points=\"  0,0   0,-0.77 4.16667,-0.77 4.16667,-0.574 8.33333,-0.574 8.33333,-1.42 12.5,-1.42 12.5,-3.22 16.6667,-3.22 16.6667,-7.35 20.8333,-7.35 20.8333,-14.4  25,-14.4  25,-24.7 29.1667,-24.7 29.1667,-37.4 33.3333,-37.4 33.3333,-51.1 37.5,-51.1 37.5,-64 41.6667,-64 41.6667,-75.5 45.8333,-75.5 45.8333,-84.8  50,-84.8  50,-91.2 54.1667,-91.2 54.1667,-95.8 58.3333,-95.8 58.3333,-98.2 62.5,-98.2 62.5,-99.9 66.6667,-99.9 66.6667,-100 70.8333,-100 70.8333,-99.3  75,-99.3  75,-97.9 79.1667,-97.9 79.1667,-95.5 83.3333,-95.5 83.3333,-92.5 87.5,-92.5 87.5,-88.1 91.6667,-88.1 91.6667,-83.8 95.8333,-83.8 95.8333,-79.5 100,-79.5 100,-74.2 104.167,-74.2 104.167,-69.1 108.333,-69.1 108.333,-63.4 112.5,-63.4 112.5,-58.1 116.667,-58.1 116.667,-52.4 120.833,-52.4 120.833,-47.4 125,-47.4 125,-42.4 129.167,-42.4 129.167,-37.5 133.333,-37.5 133.333,-33.2 137.5,-33.2 137.5,-29.2 141.667,-29.2 141.667,-25.4 145.833,-25.4 145.833,-22 150,-22 150,-19 154.167,-19 154.167,-16.2 158.333,-16.2 158.333,-14 162.5,-14 162.5,-11.8 166.667,-11.8 166.667,-9.83 170.833,-9.83 170.833,-8.43 175,-8.43 175,-7.03 179.167,-7.03 179.167,-5.75 183.333,-5.75 183.333,-4.83 187.5,-4.83 187.5,-3.96 191.667,-3.96 191.667,-3.32 195.833,-3.32 195.833,-2.58 200,-2.58 200,-2.17 204.167,-2.17 204.167,-1.8 208.333,-1.8 208.333,-1.39 212.5,-1.39 212.5,-1.15 216.667,-1.15 216.667,-0.935 220.833,-0.935 220.833,-0.768 225,-0.768 225,-0.602 229.167,-0.602 229.167,-0.447 233.333,-0.447 233.333,-0.362 237.5,-0.362 237.5,-0.292 241.667,-0.292 241.667,-0.239 245.833,-0.239 245.833,-0.199 250,-0.199 250,0\" style=\"fill:none; stroke:currentColor;\"/>\n",
       "</svg>\n",
       "</div>\n",
       "<div style=\"flex=grow:1;\">\n",
       "Regular(60, 0, 60, name='jet_nTracks')<br/>\n",
       "<hr style=\"margin-top:.2em; margin-bottom:.2em;\"/>\n",
       "Weight() Σ=WeightedSum(value=1.95164e+07, variance=2.0336e+07) <em>(WeightedSum(value=1.9522e+07, variance=2.03416e+07) with flow)</em>\n",
       "\n",
       "</div>\n",
       "</div>\n",
       "</html>"
      ],
      "text/plain": [
       "Hist(Regular(60, 0, 60, name='jet_nTracks'), storage=Weight()) # Sum: WeightedSum(value=1.95164e+07, variance=2.0336e+07) (WeightedSum(value=1.9522e+07, variance=2.03416e+07) with flow)"
      ]
     },
     "execution_count": 16,
     "metadata": {},
     "output_type": "execute_result"
    }
   ],
   "source": [
    "_hist.reset()\n",
    "_hist.fill(data1516[\"jet_nTracks\"], weight=data1516[\"jet_nTracks_quark_reweighting_weights\"])"
   ]
  },
  {
   "cell_type": "code",
   "execution_count": 8,
   "metadata": {},
   "outputs": [],
   "source": [
    "forward = data1516[data1516[\"is_forward\"]==1]\n",
    "central = data1516[data1516[\"is_forward\"]==0]\n",
    "\n",
    "central_500 = central[central[\"pt_idx\"]==0]"
   ]
  },
  {
   "cell_type": "code",
   "execution_count": 9,
   "metadata": {},
   "outputs": [],
   "source": [
    "reweight_factor = joblib.load(\"/global/cfs/projectdirs/atlas/hrzhao/HEP_Repo/QG_Calibration/NewWorkflow/trained_lightGBM_new/nominal/reweight_factor.pkl\")"
   ]
  },
  {
   "cell_type": "code",
   "execution_count": 13,
   "metadata": {},
   "outputs": [],
   "source": [
    "reweight_factor_pt_var_quark = reweight_factor[500][\"jet_nTracks\"][\"quark_factor\"]"
   ]
  },
  {
   "cell_type": "code",
   "execution_count": 18,
   "metadata": {},
   "outputs": [
    {
     "data": {
      "text/html": [
       "<html>\n",
       "<div style=\"display:flex; align-items:center;\">\n",
       "<div style=\"width:290px;\">\n",
       "<svg xmlns=\"http://www.w3.org/2000/svg\" viewBox=\"-10 -105 270 120\">\n",
       "<line x1=\"-5\" y1=\"0\" x2=\"255\" y2=\"0\" style=\"fill:none;stroke-width:2;stroke:currentColor\"/>\n",
       "<text text-anchor=\"middle\" x=\"0\" y=\"15\" style=\"fill:currentColor;\">\n",
       "0\n",
       "</text>\n",
       "<text text-anchor=\"middle\" x=\"250\" y=\"15\" style=\"fill:currentColor;\">\n",
       "60\n",
       "</text>\n",
       "<text text-anchor=\"middle\" x=\"125.0\" y=\"15\" style=\"fill:currentColor;\">\n",
       "jet_nTracks\n",
       "</text>\n",
       "<polyline points=\"  0,0   0,-1.16 4.16667,-1.16 4.16667,-0.971 8.33333,-0.971 8.33333,-1.66 12.5,-1.66 12.5,-3.94 16.6667,-3.94 16.6667,-8.75 20.8333,-8.75 20.8333,-17  25,-17  25,-28.2 29.1667,-28.2 29.1667,-41.3 33.3333,-41.3 33.3333,-54.9 37.5,-54.9 37.5,-67.4 41.6667,-67.4 41.6667,-77.5 45.8333,-77.5 45.8333,-85.5  50,-85.5  50,-90.8 54.1667,-90.8 54.1667,-95.3 58.3333,-95.3 58.3333,-97.6 62.5,-97.6 62.5,-99.6 66.6667,-99.6 66.6667,-100 70.8333,-100 70.8333,-99.9  75,-99.9  75,-98.8 79.1667,-98.8 79.1667,-97 83.3333,-97 83.3333,-93.5 87.5,-93.5 87.5,-89.5 91.6667,-89.5 91.6667,-85.1 95.8333,-85.1 95.8333,-80.2 100,-80.2 100,-74.5 104.167,-74.5 104.167,-68.5 108.333,-68.5 108.333,-62.2 112.5,-62.2 112.5,-56.7 116.667,-56.7 116.667,-50.7 120.833,-50.7 120.833,-45.1 125,-45.1 125,-39.6 129.167,-39.6 129.167,-34.5 133.333,-34.5 133.333,-29.9 137.5,-29.9 137.5,-25.8 141.667,-25.8 141.667,-21.9 145.833,-21.9 145.833,-18.6 150,-18.6 150,-15.7 154.167,-15.7 154.167,-13.1 158.333,-13.1 158.333,-10.9 162.5,-10.9 162.5,-8.99 166.667,-8.99 166.667,-7.3 170.833,-7.3 170.833,-6.03 175,-6.03 175,-4.84 179.167,-4.84 179.167,-3.83 183.333,-3.83 183.333,-3.13 187.5,-3.13 187.5,-2.54 191.667,-2.54 191.667,-1.94 195.833,-1.94 195.833,-1.52 200,-1.52 200,-1.19 204.167,-1.19 204.167,-0.934 208.333,-0.934 208.333,-0.724 212.5,-0.724 212.5,-0.577 216.667,-0.577 216.667,-0.413 220.833,-0.413 220.833,-0.314 225,-0.314 225,-0.241 229.167,-0.241 229.167,-0.168 233.333,-0.168 233.333,-0.135 237.5,-0.135 237.5,-0.103 241.667,-0.103 241.667,-0.0734 245.833,-0.0734 245.833,-0.0503 250,-0.0503 250,0\" style=\"fill:none; stroke:currentColor;\"/>\n",
       "</svg>\n",
       "</div>\n",
       "<div style=\"flex=grow:1;\">\n",
       "Regular(60, 0, 60, name='jet_nTracks')<br/>\n",
       "<hr style=\"margin-top:.2em; margin-bottom:.2em;\"/>\n",
       "Weight() Σ=WeightedSum(value=4.60913e+06, variance=4.60913e+06) <em>(WeightedSum(value=4.6095e+06, variance=4.6095e+06) with flow)</em>\n",
       "\n",
       "</div>\n",
       "</div>\n",
       "</html>"
      ],
      "text/plain": [
       "Hist(Regular(60, 0, 60, name='jet_nTracks'), storage=Weight()) # Sum: WeightedSum(value=4.60913e+06, variance=4.60913e+06) (WeightedSum(value=4.6095e+06, variance=4.6095e+06) with flow)"
      ]
     },
     "execution_count": 18,
     "metadata": {},
     "output_type": "execute_result"
    }
   ],
   "source": [
    "hist_ntrk_500_central = hist.Hist(hist.axis.Regular(bins=60, start=0, stop=60, name=\"jet_nTracks\"), storage=hist.storage.Weight())\n",
    "hist_ntrk_500_central.fill(central_500[\"jet_nTracks\"], weight=central_500[\"event_weight\"])"
   ]
  },
  {
   "cell_type": "code",
   "execution_count": 19,
   "metadata": {},
   "outputs": [
    {
     "data": {
      "text/html": [
       "<html>\n",
       "<div style=\"display:flex; align-items:center;\">\n",
       "<div style=\"width:290px;\">\n",
       "<svg xmlns=\"http://www.w3.org/2000/svg\" viewBox=\"-10 -105 270 120\">\n",
       "<line x1=\"-5\" y1=\"0\" x2=\"255\" y2=\"0\" style=\"fill:none;stroke-width:2;stroke:currentColor\"/>\n",
       "<text text-anchor=\"middle\" x=\"0\" y=\"15\" style=\"fill:currentColor;\">\n",
       "0\n",
       "</text>\n",
       "<text text-anchor=\"middle\" x=\"250\" y=\"15\" style=\"fill:currentColor;\">\n",
       "60\n",
       "</text>\n",
       "<text text-anchor=\"middle\" x=\"125.0\" y=\"15\" style=\"fill:currentColor;\">\n",
       "jet_nTracks\n",
       "</text>\n",
       "<polyline points=\"  0,0   0,-0 4.16667,-0 4.16667,-0 8.33333,-0 8.33333,-1.17 12.5,-1.17 12.5,-2.81 16.6667,-2.81 16.6667,-6.32 20.8333,-6.32 20.8333,-12.4  25,-12.4  25,-21.1 29.1667,-21.1 29.1667,-31.9 33.3333,-31.9 33.3333,-43.2 37.5,-43.2 37.5,-54.6 41.6667,-54.6 41.6667,-64.6 45.8333,-64.6 45.8333,-73.7  50,-73.7  50,-80.8 54.1667,-80.8 54.1667,-87 58.3333,-87 58.3333,-91.7 62.5,-91.7 62.5,-95.7 66.6667,-95.7 66.6667,-97.8 70.8333,-97.8 70.8333,-99.5  75,-99.5  75,-100 79.1667,-100 79.1667,-99.7 83.3333,-99.7 83.3333,-97.3 87.5,-97.3 87.5,-93 91.6667,-93 91.6667,-89.7 95.8333,-89.7 95.8333,-85.9 100,-85.9 100,-80.2 104.167,-80.2 104.167,-75 108.333,-75 108.333,-68.3 112.5,-68.3 112.5,-62.7 116.667,-62.7 116.667,-56 120.833,-56 120.833,-50.7 125,-50.7 125,-44.9 129.167,-44.9 129.167,-38.9 133.333,-38.9 133.333,-33.8 137.5,-33.8 137.5,-29.3 141.667,-29.3 141.667,-25.6 145.833,-25.6 145.833,-21.5 150,-21.5 150,-18.4 154.167,-18.4 154.167,-15.2 158.333,-15.2 158.333,-13.2 162.5,-13.2 162.5,-10.5 166.667,-10.5 166.667,-8.38 170.833,-8.38 170.833,-7.38 175,-7.38 175,-5.85 179.167,-5.85 179.167,-4.64 183.333,-4.64 183.333,-3.79 187.5,-3.79 187.5,-2.89 191.667,-2.89 191.667,-2.54 195.833,-2.54 195.833,-1.7 200,-1.7 200,-1.54 204.167,-1.54 204.167,-1.31 208.333,-1.31 208.333,-0.721 212.5,-0.721 212.5,-0.629 216.667,-0.629 216.667,-0.547 220.833,-0.547 220.833,-0.409 225,-0.409 225,-0.332 229.167,-0.332 229.167,-0.137 233.333,-0.137 233.333,-0.0944 237.5,-0.0944 237.5,-0.134 241.667,-0.134 241.667,-0.0718 245.833,-0.0718 245.833,-0.0685 250,-0.0685 250,0\" style=\"fill:none; stroke:currentColor;\"/>\n",
       "</svg>\n",
       "</div>\n",
       "<div style=\"flex=grow:1;\">\n",
       "Regular(60, 0, 60, name='jet_nTracks')<br/>\n",
       "<hr style=\"margin-top:.2em; margin-bottom:.2em;\"/>\n",
       "Weight() Σ=WeightedSum(value=4.95392e+06, variance=5.4017e+06) <em>(WeightedSum(value=4.95428e+06, variance=5.40206e+06) with flow)</em>\n",
       "\n",
       "</div>\n",
       "</div>\n",
       "</html>"
      ],
      "text/plain": [
       "Hist(Regular(60, 0, 60, name='jet_nTracks'), storage=Weight()) # Sum: WeightedSum(value=4.95392e+06, variance=5.4017e+06) (WeightedSum(value=4.95428e+06, variance=5.40206e+06) with flow)"
      ]
     },
     "execution_count": 19,
     "metadata": {},
     "output_type": "execute_result"
    }
   ],
   "source": [
    "hist_ntrk_500_central_weighted = hist.Hist(hist.axis.Regular(bins=60, start=0, stop=60, name=\"jet_nTracks\"), storage=hist.storage.Weight())\n",
    "hist_ntrk_500_central_weighted.fill(central_500[\"jet_nTracks\"], weight=central_500[\"jet_nTracks_quark_reweighting_weights\"])"
   ]
  },
  {
   "cell_type": "code",
   "execution_count": 23,
   "metadata": {},
   "outputs": [
    {
     "data": {
      "text/plain": [
       "array([0.00000000e+00, 0.00000000e+00, 2.73567589e+03, 6.58030452e+03,\n",
       "       1.47913167e+04, 2.89630479e+04, 4.93818163e+04, 7.45790333e+04,\n",
       "       1.01041834e+05, 1.27804002e+05, 1.51093116e+05, 1.72362289e+05,\n",
       "       1.89029961e+05, 2.03644263e+05, 2.14522889e+05, 2.23956868e+05,\n",
       "       2.28878896e+05, 2.32888786e+05, 2.33968550e+05, 2.33347941e+05,\n",
       "       2.27679910e+05, 2.17674197e+05, 2.09756847e+05, 2.00878991e+05,\n",
       "       1.87606916e+05, 1.75430381e+05, 1.59890068e+05, 1.46812712e+05,\n",
       "       1.31040364e+05, 1.18715758e+05, 1.04943106e+05, 9.10773800e+04,\n",
       "       7.91666720e+04, 6.85481022e+04, 5.98293977e+04, 5.02901197e+04,\n",
       "       4.31023739e+04, 3.55681466e+04, 3.08582144e+04, 2.44950575e+04,\n",
       "       1.96075792e+04, 1.72627074e+04, 1.36766634e+04, 1.08637858e+04,\n",
       "       8.86427339e+03, 6.76602795e+03, 5.95290157e+03, 3.97696058e+03,\n",
       "       3.60056196e+03, 3.05504503e+03, 1.68588220e+03, 1.47119548e+03,\n",
       "       1.28060761e+03, 9.56357466e+02, 7.77173772e+02, 3.20484579e+02,\n",
       "       2.20899746e+02, 3.13594977e+02, 1.68031086e+02, 1.60348571e+02])"
      ]
     },
     "execution_count": 23,
     "metadata": {},
     "output_type": "execute_result"
    }
   ],
   "source": [
    "hist_ntrk_500_central.values() * reweight_factor_pt_var_quark"
   ]
  },
  {
   "cell_type": "code",
   "execution_count": 25,
   "metadata": {},
   "outputs": [
    {
     "data": {
      "text/plain": [
       "array([0.00000000e+00, 0.00000000e+00, 2.73567589e+03, 6.58030452e+03,\n",
       "       1.47913167e+04, 2.89630479e+04, 4.93818163e+04, 7.45790333e+04,\n",
       "       1.01041834e+05, 1.27804002e+05, 1.51093116e+05, 1.72362289e+05,\n",
       "       1.89029961e+05, 2.03644263e+05, 2.14522889e+05, 2.23956868e+05,\n",
       "       2.28878896e+05, 2.32888786e+05, 2.33968550e+05, 2.33347941e+05,\n",
       "       2.27679910e+05, 2.17674197e+05, 2.09756847e+05, 2.00878991e+05,\n",
       "       1.87606916e+05, 1.75430381e+05, 1.59890068e+05, 1.46812712e+05,\n",
       "       1.31040364e+05, 1.18715758e+05, 1.04943106e+05, 9.10773800e+04,\n",
       "       7.91666720e+04, 6.85481022e+04, 5.98293977e+04, 5.02901197e+04,\n",
       "       4.31023739e+04, 3.55681466e+04, 3.08582144e+04, 2.44950575e+04,\n",
       "       1.96075792e+04, 1.72627074e+04, 1.36766634e+04, 1.08637858e+04,\n",
       "       8.86427339e+03, 6.76602795e+03, 5.95290157e+03, 3.97696058e+03,\n",
       "       3.60056196e+03, 3.05504503e+03, 1.68588220e+03, 1.47119548e+03,\n",
       "       1.28060761e+03, 9.56357466e+02, 7.77173772e+02, 3.20484579e+02,\n",
       "       2.20899746e+02, 3.13594977e+02, 1.68031086e+02, 1.60348571e+02])"
      ]
     },
     "execution_count": 25,
     "metadata": {},
     "output_type": "execute_result"
    }
   ],
   "source": [
    "hist_ntrk_500_central_weighted.values()"
   ]
  },
  {
   "cell_type": "code",
   "execution_count": 28,
   "metadata": {},
   "outputs": [
    {
     "data": {
      "text/plain": [
       "True"
      ]
     },
     "execution_count": 28,
     "metadata": {},
     "output_type": "execute_result"
    }
   ],
   "source": [
    "np.allclose((hist_ntrk_500_central.values() * reweight_factor_pt_var_quark),hist_ntrk_500_central_weighted.values())"
   ]
  },
  {
   "cell_type": "code",
   "execution_count": 29,
   "metadata": {},
   "outputs": [
    {
     "data": {
      "text/plain": [
       "array([9.60340000e+07, 1.68158606e+04, 1.73514685e+02, 1.40059219e+01,\n",
       "       1.31401094e-01, 9.53733236e-03, 3.02887896e-03, 8.73200652e-04,\n",
       "       1.47115647e-04])"
      ]
     },
     "execution_count": 29,
     "metadata": {},
     "output_type": "execute_result"
    }
   ],
   "source": [
    "joblib.load(\"/global/cfs/projectdirs/atlas/hrzhao/qgcal/Samples_Dec11/pythia/pythiaA_hist/SumofWeights_A.pkl\")"
   ]
  },
  {
   "cell_type": "code",
   "execution_count": 30,
   "metadata": {},
   "outputs": [
    {
     "data": {
      "text/plain": [
       "array([1.98630000e+07, 3.66271396e+03, 1.45318847e+02, 4.44990150e+00,\n",
       "       1.66390557e-01, 1.37993879e-02, 3.82368959e-03, 1.10434092e-03,\n",
       "       2.14897899e-04])"
      ]
     },
     "execution_count": 30,
     "metadata": {},
     "output_type": "execute_result"
    }
   ],
   "source": [
    "joblib.load(\"/global/cfs/projectdirs/atlas/hrzhao/qgcal/Samples_Dec11/pythia/pythiaD_hist/SumofWeights_D.pkl\")"
   ]
  },
  {
   "cell_type": "code",
   "execution_count": 31,
   "metadata": {},
   "outputs": [
    {
     "data": {
      "text/plain": [
       "array([9.23090000e+07, 8.43519920e+03, 1.88737963e+02, 1.91043535e+01,\n",
       "       3.46616910e-01, 3.89311047e-02, 5.33351928e-03, 1.53889750e-03,\n",
       "       2.74863663e-04])"
      ]
     },
     "execution_count": 31,
     "metadata": {},
     "output_type": "execute_result"
    }
   ],
   "source": [
    "joblib.load(\"/global/cfs/projectdirs/atlas/hrzhao/qgcal/Samples_Dec11/pythia/pythiaE_hist/SumofWeights_E.pkl\")"
   ]
  },
  {
   "cell_type": "code",
   "execution_count": null,
   "metadata": {},
   "outputs": [],
   "source": []
  }
 ],
 "metadata": {
  "kernelspec": {
   "display_name": "ml",
   "language": "python",
   "name": "python3"
  },
  "language_info": {
   "codemirror_mode": {
    "name": "ipython",
    "version": 3
   },
   "file_extension": ".py",
   "mimetype": "text/x-python",
   "name": "python",
   "nbconvert_exporter": "python",
   "pygments_lexer": "ipython3",
   "version": "3.9.15"
  },
  "orig_nbformat": 4
 },
 "nbformat": 4,
 "nbformat_minor": 2
}
