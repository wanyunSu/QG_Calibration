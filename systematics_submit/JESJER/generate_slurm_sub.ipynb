{
 "cells": [
  {
   "cell_type": "code",
   "execution_count": 1,
   "metadata": {},
   "outputs": [],
   "source": [
    "import joblib\n",
    "import numpy as np \n",
    "from pathlib import Path\n",
    "import uproot "
   ]
  },
  {
   "cell_type": "code",
   "execution_count": 2,
   "metadata": {},
   "outputs": [],
   "source": [
    "syst_identifier = 'JESJER'\n",
    "slurm_log_path = f'/global/cfs/projectdirs/atlas/hrzhao/HEP_Repo/QG_Calibration/NewWorkflow/systematics_submit/{syst_identifier}/slurm_logs/'\n",
    "slurm_sub_path = f'/global/cfs/projectdirs/atlas/hrzhao/HEP_Repo/QG_Calibration/NewWorkflow/systematics_submit/{syst_identifier}/slurm_subs/'\n",
    "\n",
    "wrapper_path = f'/global/cfs/projectdirs/atlas/hrzhao/HEP_Repo/QG_Calibration/NewWorkflow/systematics_submit/{syst_identifier}/make_histogram_{syst_identifier}.sh'\n"
   ]
  },
  {
   "cell_type": "code",
   "execution_count": 3,
   "metadata": {},
   "outputs": [],
   "source": [
    "for _path in [slurm_sub_path, slurm_log_path]:\n",
    "    if not Path(_path).exists():\n",
    "        Path(_path).mkdir(parents=True)"
   ]
  },
  {
   "cell_type": "code",
   "execution_count": 4,
   "metadata": {},
   "outputs": [],
   "source": [
    "def generate_sub_header(i):\n",
    "    script= '#!/bin/bash\\n\\n'+\\\n",
    "            '#SBATCH -C cpu\\n'+\\\n",
    "            '#SBATCH -t 1:00:00\\n'+\\\n",
    "            f'#SBATCH -J qgtagging_{syst_identifier}{i}\\n'+\\\n",
    "            '#SBATCH --qos=shared\\n'+\\\n",
    "            '#SBATCH --ntasks=1\\n'+\\\n",
    "            '#SBATCH --cpus-per-task=10\\n'+\\\n",
    "            '#SBATCH --account=atlas\\n'+\\\n",
    "            '#SBATCH --mem=120G\\n'+\\\n",
    "            f'#SBATCH --output={slurm_log_path}/slurm-%j.out\\n'+\\\n",
    "            f'#SBATCH --error={slurm_log_path}/slurm-%j.err\\n\\n\\n'\n",
    "    return script\n"
   ]
  },
  {
   "cell_type": "code",
   "execution_count": 3,
   "metadata": {},
   "outputs": [],
   "source": [
    "pythia_file_path='/global/cfs/projectdirs/atlas/hrzhao/qgcal/Samples_Dec11/pythia/pythiaA/user.wasu.Dec11a.mc16_13TeV.364709.Pythia8EvtGen_A14NNPDF23LO_jetjet_JZ9WithSW_minitrees.root/user.wasu.31564717._000001.minitrees.root'\n",
    "pythia_file_path= Path(pythia_file_path)\n",
    "pythia_root = uproot.open(pythia_file_path)"
   ]
  },
  {
   "cell_type": "code",
   "execution_count": 4,
   "metadata": {},
   "outputs": [],
   "source": [
    "keys = [*pythia_root.keys()]"
   ]
  },
  {
   "cell_type": "code",
   "execution_count": 5,
   "metadata": {},
   "outputs": [],
   "source": [
    "# remove the cycle number ';1'\n",
    "keys = [key[:-2] for key in keys]\n",
    "\n",
    "# remove the nominal tree\n",
    "if 'nominal' in keys:\n",
    "    keys.remove('nominal')\n",
    "\n",
    "# Remove the following two tree \n",
    "#  'syst_PRW_DATASF__1down;1',\n",
    "#  'syst_PRW_DATASF__1up;1']\n",
    "keys = [key for key in keys if key.startswith('syst_JET')]\n"
   ]
  },
  {
   "cell_type": "code",
   "execution_count": 8,
   "metadata": {},
   "outputs": [],
   "source": [
    "for i, block in enumerate(keys):\n",
    "    with open(f'{slurm_sub_path}/{syst_identifier}_slurm_sub{i:03}.sl', 'w') as f:\n",
    "        f.write(generate_sub_header(block))\n",
    "\n",
    "        f.write(f\"{wrapper_path} {block}\\n\")\n"
   ]
  },
  {
   "cell_type": "code",
   "execution_count": 6,
   "metadata": {},
   "outputs": [
    {
     "data": {
      "text/plain": [
       "42"
      ]
     },
     "execution_count": 6,
     "metadata": {},
     "output_type": "execute_result"
    }
   ],
   "source": [
    "keys.index('syst_JET_EffectiveNP_Statistical6__1up')"
   ]
  },
  {
   "cell_type": "code",
   "execution_count": null,
   "metadata": {},
   "outputs": [],
   "source": []
  }
 ],
 "metadata": {
  "kernelspec": {
   "display_name": "ml",
   "language": "python",
   "name": "python3"
  },
  "language_info": {
   "codemirror_mode": {
    "name": "ipython",
    "version": 3
   },
   "file_extension": ".py",
   "mimetype": "text/x-python",
   "name": "python",
   "nbconvert_exporter": "python",
   "pygments_lexer": "ipython3",
   "version": "3.9.15"
  },
  "orig_nbformat": 4,
  "vscode": {
   "interpreter": {
    "hash": "14e3b66b9136298b1438aa954b24fb6042eb4a7b64fe2e32b506f4a92d36ab42"
   }
  }
 },
 "nbformat": 4,
 "nbformat_minor": 2
}
